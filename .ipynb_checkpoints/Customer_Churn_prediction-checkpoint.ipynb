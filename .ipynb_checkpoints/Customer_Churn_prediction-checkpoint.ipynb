{
 "cells": [
  {
   "cell_type": "markdown",
   "id": "bd67bed8",
   "metadata": {},
   "source": [
    "# Vodafone Telecommunication : Customer Churn Prediction"
   ]
  },
  {
   "cell_type": "markdown",
   "id": "effff648",
   "metadata": {},
   "source": [
    "## Importing Libraries"
   ]
  },
  {
   "cell_type": "code",
   "execution_count": 7,
   "id": "20101c3c",
   "metadata": {},
   "outputs": [],
   "source": [
    "# For loading data and related works\n",
    "import numpy as np\n",
    "import pandas as pd\n",
    "\n",
    "# For controlling warnings\n",
    "import warnings\n",
    "\n",
    "# For data visualizatioon\n",
    "import matplotlib.pyplot as plt\n",
    "import seaborn as sns\n",
    "import plotly.express as px\n",
    "\n",
    "# For connecting to the database\n",
    "import pyodbc\n",
    "from dotenv import load_dotenv, dotenv_values\n",
    "\n",
    "# For stating hypothesis\n",
    "import scipy.stats as stats\n",
    "from scipy.stats import chi2_contingency\n",
    "\n",
    "# For feature encoding\n",
    "from sklearn.compose import make_column_selector as selector\n",
    "from sklearn.preprocessing import StandardScaler, OrdinalEncoder\n",
    "from sklearn.compose import ColumnTransformer\n",
    "\n",
    "# For data balancing\n",
    "from imblearn.over_sampling import SMOTE\n",
    "\n",
    "# For data spliting\n",
    "from sklearn.model_selection import train_test_split\n",
    "\n",
    "# For machine learning model\n",
    "from sklearn import svm\n",
    "from sklearn.tree import DecisionTreeClassifier\n",
    "from sklearn.neighbors import KNeighborsClassifier\n",
    "from sklearn.ensemble import RandomForestClassifier\n",
    "from sklearn.linear_model import LogisticRegression\n",
    "from sklearn.ensemble import HistGradientBoostingClassifier\n",
    "\n",
    "# For evaluating model results\n",
    "from sklearn.metrics import classification_report\n",
    "from sklearn.model_selection import StratifiedKFold, cross_val_score\n",
    "from sklearn.metrics import f1_score\n",
    "\n",
    "# For hyperparameter tunning\n",
    "from sklearn.model_selection import GridSearchCV\n",
    "from sklearn.metrics import confusion_matrix\n",
    "from sklearn.metrics import ConfusionMatrixDisplay\n",
    "from sklearn.model_selection import KFold, cross_val_score\n",
    "from sklearn.model_selection import RandomizedSearchCV\n",
    "\n",
    "# For operating system\n",
    "import os\n",
    "import pickle\n",
    "\n",
    "warnings.filterwarnings('ignore')"
   ]
  },
  {
   "cell_type": "markdown",
   "id": "5298276e",
   "metadata": {},
   "source": [
    "### First Dataset : Loading training data from database"
   ]
  },
  {
   "cell_type": "code",
   "execution_count": 2,
   "id": "909dcfb5",
   "metadata": {},
   "outputs": [],
   "source": [
    "#pip install python-dotenv"
   ]
  },
  {
   "cell_type": "code",
   "execution_count": 3,
   "id": "8861f1e7",
   "metadata": {},
   "outputs": [],
   "source": [
    "#%%writefile .gitignore\n",
    "#env_var = dotenv_values(\".env\")"
   ]
  },
  {
   "cell_type": "code",
   "execution_count": 8,
   "id": "1c97446f",
   "metadata": {},
   "outputs": [
    {
     "data": {
      "text/plain": [
       "False"
      ]
     },
     "execution_count": 8,
     "metadata": {},
     "output_type": "execute_result"
    }
   ],
   "source": [
    "#Load environment variables from .env file\n",
    "env_var = dotenv_values('.env')\n",
    "\n",
    "load_dotenv()"
   ]
  },
  {
   "cell_type": "code",
   "execution_count": 6,
   "id": "8e9220aa",
   "metadata": {},
   "outputs": [
    {
     "ename": "OperationalError",
     "evalue": "('08001', '[08001] [Microsoft][ODBC SQL Server Driver][DBNETLIB]SQL Server does not exist or access denied. (17) (SQLDriverConnect); [08001] [Microsoft][ODBC SQL Server Driver][DBNETLIB]ConnectionOpen (Connect()). (53)')",
     "output_type": "error",
     "traceback": [
      "\u001b[1;31m---------------------------------------------------------------------------\u001b[0m",
      "\u001b[1;31mOperationalError\u001b[0m                          Traceback (most recent call last)",
      "\u001b[1;32m~\\AppData\\Local\\Temp/ipykernel_14508/2554602510.py\u001b[0m in \u001b[0;36m<module>\u001b[1;34m\u001b[0m\n\u001b[0;32m      8\u001b[0m \u001b[1;33m\u001b[0m\u001b[0m\n\u001b[0;32m      9\u001b[0m \u001b[1;31m# Connecting to the DB\u001b[0m\u001b[1;33m\u001b[0m\u001b[1;33m\u001b[0m\u001b[0m\n\u001b[1;32m---> 10\u001b[1;33m \u001b[0mconnection\u001b[0m \u001b[1;33m=\u001b[0m \u001b[0mpyodbc\u001b[0m\u001b[1;33m.\u001b[0m\u001b[0mconnect\u001b[0m\u001b[1;33m(\u001b[0m\u001b[0mconnection_string\u001b[0m\u001b[1;33m)\u001b[0m\u001b[1;33m\u001b[0m\u001b[1;33m\u001b[0m\u001b[0m\n\u001b[0m\u001b[0;32m     11\u001b[0m \u001b[1;33m\u001b[0m\u001b[0m\n\u001b[0;32m     12\u001b[0m \u001b[1;31m# Selecting the Table\u001b[0m\u001b[1;33m\u001b[0m\u001b[1;33m\u001b[0m\u001b[0m\n",
      "\u001b[1;31mOperationalError\u001b[0m: ('08001', '[08001] [Microsoft][ODBC SQL Server Driver][DBNETLIB]SQL Server does not exist or access denied. (17) (SQLDriverConnect); [08001] [Microsoft][ODBC SQL Server Driver][DBNETLIB]ConnectionOpen (Connect()). (53)')"
     ]
    }
   ],
   "source": [
    "# Get the credentials from .env file\n",
    "server = env_var.get(\"SERVER\")\n",
    "database = env_var.get(\"DATABASE\")\n",
    "username = env_var.get(\"USERNAME\")\n",
    "password = env_var.get(\"PASSWORD\")\n",
    "\n",
    "connection_string = f\"DRIVER={{SQL Server}};SERVER={server};DATABASE={database};UID={username};PWD={password}\"\n",
    "\n",
    "# Connecting to the DB\n",
    "connection = pyodbc.connect(connection_string)\n",
    "\n",
    "# Selecting the Table\n",
    "query = \"Select * from dbo.LP2_Telco_churn_first_3000\"\n",
    "data_from_database = pd.read_sql(query, connection)\n",
    "\n",
    "# Preview the data\n",
    "data_from_database.head()"
   ]
  },
  {
   "cell_type": "code",
   "execution_count": null,
   "id": "a5ed1b83",
   "metadata": {},
   "outputs": [],
   "source": [
    "data_from_database.shape"
   ]
  },
  {
   "cell_type": "code",
   "execution_count": null,
   "id": "931eea9c",
   "metadata": {},
   "outputs": [],
   "source": [
    "data_from_database = pd.read_csv(\"C:/Users/hp/Documents/GitHub/Customer-Churn-ML-Prediction/Datasets/data_from_database.csv\")"
   ]
  },
  {
   "cell_type": "markdown",
   "id": "323109c4",
   "metadata": {},
   "source": [
    "### Second Dataset : Loading testing data"
   ]
  },
  {
   "cell_type": "code",
   "execution_count": null,
   "id": "1c3e2352",
   "metadata": {},
   "outputs": [],
   "source": [
    "test = pd.read_excel(\"C:/Users/hp/Documents/GitHub/Customer-Churn-ML-Prediction/Datasets/Telco-churn-second-2000.xlsx\")"
   ]
  },
  {
   "cell_type": "code",
   "execution_count": null,
   "id": "75f016ee",
   "metadata": {},
   "outputs": [],
   "source": [
    "test.shape"
   ]
  },
  {
   "cell_type": "code",
   "execution_count": null,
   "id": "c5f1f992",
   "metadata": {},
   "outputs": [],
   "source": [
    "test.head()"
   ]
  },
  {
   "cell_type": "markdown",
   "id": "95c97395",
   "metadata": {},
   "source": [
    "### Third Dataset : Loading Training data "
   ]
  },
  {
   "cell_type": "code",
   "execution_count": null,
   "id": "7b9b5f80",
   "metadata": {},
   "outputs": [],
   "source": [
    "data_from_github = pd.read_csv(\"C:/Users/hp/Documents/GitHub/Customer-Churn-ML-Prediction/Datasets/LP2_Telco-churn-last-2000.csv\")"
   ]
  },
  {
   "cell_type": "code",
   "execution_count": null,
   "id": "8a4dc2f1",
   "metadata": {},
   "outputs": [],
   "source": [
    "data_from_github.shape"
   ]
  },
  {
   "cell_type": "code",
   "execution_count": null,
   "id": "907ba6ed",
   "metadata": {},
   "outputs": [],
   "source": [
    "data_from_github.head()"
   ]
  },
  {
   "cell_type": "markdown",
   "id": "f6149bd5",
   "metadata": {},
   "source": [
    "# Cleaning Testing data"
   ]
  },
  {
   "cell_type": "code",
   "execution_count": null,
   "id": "ceb946eb",
   "metadata": {},
   "outputs": [],
   "source": [
    "test.shape"
   ]
  },
  {
   "cell_type": "code",
   "execution_count": null,
   "id": "c13ac4a3",
   "metadata": {},
   "outputs": [],
   "source": [
    "test.PhoneService.dtype == \"object\""
   ]
  },
  {
   "cell_type": "markdown",
   "id": "b88b3d90",
   "metadata": {},
   "source": [
    "#### Function to check columns"
   ]
  },
  {
   "cell_type": "code",
   "execution_count": null,
   "id": "971e53d9",
   "metadata": {},
   "outputs": [],
   "source": [
    "def column_checker(data):\n",
    "    for col in test.columns:\n",
    "        print(col , \" => \" ,  data[col].unique())\n",
    "column_checker(test)"
   ]
  },
  {
   "cell_type": "code",
   "execution_count": null,
   "id": "27e69982",
   "metadata": {},
   "outputs": [],
   "source": [
    "test.isnull().any()"
   ]
  },
  {
   "cell_type": "code",
   "execution_count": null,
   "id": "ed3328fa",
   "metadata": {},
   "outputs": [],
   "source": [
    "test.info()"
   ]
  },
  {
   "cell_type": "markdown",
   "id": "d00a8006",
   "metadata": {},
   "source": [
    "#### function to replace column values"
   ]
  },
  {
   "cell_type": "code",
   "execution_count": null,
   "id": "affd08cb",
   "metadata": {},
   "outputs": [],
   "source": [
    "# Replace values in multiple columns\n",
    "columns_to_replace = ['MultipleLines', 'PhoneService', 'DeviceProtection', 'InternetService', \n",
    "                      'OnlineSecurity', 'OnlineBackup', 'StreamingTV', 'TechSupport', 'StreamingMovies',\n",
    "                      'SeniorCitizen', 'Partner', 'Dependents', 'PaperlessBilling']\n",
    "\n",
    "# Define the mapping of values to replace\n",
    "value_mapping = {\n",
    "    True: 'Yes',\n",
    "    False: 'No',\n",
    "    np.nan: 'No',\n",
    "    '': 'No',\n",
    "    'NaN': 'No',\n",
    "    'Nan': 'No',\n",
    "    'NaN': 'No',\n",
    "    0: 'No',\n",
    "    1: 'Yes',\n",
    "}"
   ]
  },
  {
   "cell_type": "code",
   "execution_count": null,
   "id": "9cc9e007",
   "metadata": {},
   "outputs": [],
   "source": [
    "value_mapping"
   ]
  },
  {
   "cell_type": "code",
   "execution_count": null,
   "id": "613b51ca",
   "metadata": {},
   "outputs": [],
   "source": [
    "# check the type for the monthly charges\n",
    "test.MonthlyCharges.dtype == \"float64\""
   ]
  },
  {
   "cell_type": "code",
   "execution_count": null,
   "id": "d2626a26",
   "metadata": {},
   "outputs": [],
   "source": [
    "# Loop through each column and replace the values\n",
    "def column_replacer(data):\n",
    "    for column in columns_to_replace:\n",
    "        if data[column].dtype == \"float64\" or data[column].dtype == \"int64\":\n",
    "            data[column] = data[column].astype(str) # changing to string\n",
    "        data[column] = data[column].replace(value_mapping)\n",
    "column_replacer(test)"
   ]
  },
  {
   "cell_type": "code",
   "execution_count": null,
   "id": "085a0625",
   "metadata": {},
   "outputs": [],
   "source": [
    "column_checker(test)\n"
   ]
  },
  {
   "cell_type": "markdown",
   "id": "cd388996",
   "metadata": {},
   "source": [
    "Our testing data has no null values"
   ]
  },
  {
   "cell_type": "markdown",
   "id": "3e8ea94c",
   "metadata": {},
   "source": [
    "## Handling column \"TotalCharges\""
   ]
  },
  {
   "cell_type": "code",
   "execution_count": null,
   "id": "d02133e2",
   "metadata": {},
   "outputs": [],
   "source": [
    "test.TotalCharges = test.TotalCharges.astype(str)\n"
   ]
  },
  {
   "cell_type": "code",
   "execution_count": null,
   "id": "c3ce8036",
   "metadata": {},
   "outputs": [],
   "source": [
    "# replacing values\n",
    "\n",
    "test.TotalCharges = test.TotalCharges.apply(lambda x : str(x).replace('',\"0\"))\n",
    "test.TotalCharges = test.TotalCharges.apply(lambda x : str(x).replace(\"0.0\",\"0\"))\n",
    "test.TotalCharges = test.TotalCharges.apply(lambda x : str(x).replace(\"0 0\",\"0\"))\n",
    "test.TotalCharges = test.TotalCharges.apply(lambda x : str(x).replace(\"000 000\",\"0\"))\n",
    "test.TotalCharges = test.TotalCharges.apply(lambda x : str(x).replace('0000000 0000000',\"0\"))\n"
   ]
  },
  {
   "cell_type": "code",
   "execution_count": null,
   "id": "ca7fba94",
   "metadata": {},
   "outputs": [],
   "source": [
    "# Change type to float\n",
    "test.TotalCharges = test.TotalCharges.astype(float)"
   ]
  },
  {
   "cell_type": "code",
   "execution_count": null,
   "id": "ba043283",
   "metadata": {},
   "outputs": [],
   "source": [
    "test.info()"
   ]
  },
  {
   "cell_type": "code",
   "execution_count": null,
   "id": "ace46c96",
   "metadata": {},
   "outputs": [],
   "source": [
    "test.head()"
   ]
  },
  {
   "cell_type": "markdown",
   "id": "71e944c1",
   "metadata": {},
   "source": [
    "# Cleaning Training data"
   ]
  },
  {
   "cell_type": "markdown",
   "id": "a2ca9600",
   "metadata": {},
   "source": [
    "Before applying cleaning we need to concatenate the two datasets in to one data"
   ]
  },
  {
   "cell_type": "code",
   "execution_count": null,
   "id": "b7af1965",
   "metadata": {},
   "outputs": [],
   "source": [
    "# Merge the datasets together to form the training data\n",
    "training = pd.concat([data_from_database , data_from_github])"
   ]
  },
  {
   "cell_type": "code",
   "execution_count": null,
   "id": "725b75ee",
   "metadata": {},
   "outputs": [],
   "source": [
    "training.head()"
   ]
  },
  {
   "cell_type": "code",
   "execution_count": null,
   "id": "b8f474b2",
   "metadata": {},
   "outputs": [],
   "source": [
    "training.shape"
   ]
  },
  {
   "cell_type": "code",
   "execution_count": null,
   "id": "1b87ecb5",
   "metadata": {},
   "outputs": [],
   "source": [
    "#check for null values\n",
    "training.isnull().any()"
   ]
  },
  {
   "cell_type": "markdown",
   "id": "d79e2e3a",
   "metadata": {},
   "source": [
    "As Column 1 is not relevant to our data we drop it"
   ]
  },
  {
   "cell_type": "code",
   "execution_count": null,
   "id": "b97a7e39",
   "metadata": {},
   "outputs": [],
   "source": [
    "# Check the unique values of each column\n",
    "column_checker(training)"
   ]
  },
  {
   "cell_type": "code",
   "execution_count": null,
   "id": "44d2be64",
   "metadata": {},
   "outputs": [],
   "source": [
    "# Replacing Values\n",
    "column_replacer(training)"
   ]
  },
  {
   "cell_type": "code",
   "execution_count": null,
   "id": "c179b46d",
   "metadata": {},
   "outputs": [],
   "source": [
    "column_checker(training)"
   ]
  },
  {
   "cell_type": "markdown",
   "id": "3d32154e",
   "metadata": {},
   "source": [
    "## Handling column \"TotalCharges\""
   ]
  },
  {
   "cell_type": "code",
   "execution_count": null,
   "id": "75d2848e",
   "metadata": {},
   "outputs": [],
   "source": [
    "# dropping null values \n",
    "a = training[\"TotalCharges\"].dropna() "
   ]
  },
  {
   "cell_type": "code",
   "execution_count": null,
   "id": "c22f9add",
   "metadata": {},
   "outputs": [],
   "source": [
    "# changing to string to replace non int values\n",
    "a = a.astype(str) "
   ]
  },
  {
   "cell_type": "code",
   "execution_count": null,
   "id": "82d78693",
   "metadata": {},
   "outputs": [],
   "source": [
    "# replacing values\n",
    "\n",
    "a = a.apply(lambda x : x.replace('',\"0\"))\n",
    "a = a.apply(lambda x : x.replace(\"0 0\",\"0\"))"
   ]
  },
  {
   "cell_type": "code",
   "execution_count": null,
   "id": "7743adb7",
   "metadata": {},
   "outputs": [],
   "source": [
    "# Changing to float\n",
    "a = a.astype(float)\n",
    "\n",
    "# Getting the mean value\n",
    "my_mean = a.mean()\n",
    "\n",
    "# Filling the null values by mean\n",
    "training[\"TotalCharges\"] = training[\"TotalCharges\"].fillna(my_mean)\n",
    "\n",
    "#Checking for null values\n",
    "training[\"TotalCharges\"].isnull().sum()"
   ]
  },
  {
   "cell_type": "code",
   "execution_count": null,
   "id": "2fedc4d3",
   "metadata": {},
   "outputs": [],
   "source": [
    "# Replacing values\n",
    "training[\"TotalCharges\"] = training[\"TotalCharges\"].apply(lambda x : str(x).replace(\" \",\"0\"))\n",
    "training[\"TotalCharges\"] = training[\"TotalCharges\"].astype(float)"
   ]
  },
  {
   "cell_type": "markdown",
   "id": "7fe397dd",
   "metadata": {},
   "source": [
    "## Handling column \"Churn\""
   ]
  },
  {
   "cell_type": "code",
   "execution_count": null,
   "id": "851cb3e8",
   "metadata": {},
   "outputs": [],
   "source": [
    "training[\"Churn\"].unique()"
   ]
  },
  {
   "cell_type": "code",
   "execution_count": null,
   "id": "23a56f36",
   "metadata": {},
   "outputs": [],
   "source": [
    "training[\"Churn\"] = training[\"Churn\"].astype(str)"
   ]
  },
  {
   "cell_type": "code",
   "execution_count": null,
   "id": "c2bb3cbc",
   "metadata": {},
   "outputs": [],
   "source": [
    "#  replacing values\n",
    "\n",
    "training[\"Churn\"] = training[\"Churn\"].apply(lambda x: x.replace(\"False\",\"No\"))\n",
    "training[\"Churn\"] = training[\"Churn\"].apply(lambda x: x.replace('True',\"Yes\"))\n",
    "training[\"Churn\"] = training[\"Churn\"].apply(lambda x: x.replace(\"nan\",\"No\"))\n",
    "training[\"Churn\"] = training[\"Churn\"].apply(lambda x: x.replace(\"None\",\"No\"))"
   ]
  },
  {
   "cell_type": "code",
   "execution_count": null,
   "id": "23e7517b",
   "metadata": {},
   "outputs": [],
   "source": [
    "training.Churn.unique()"
   ]
  },
  {
   "cell_type": "code",
   "execution_count": null,
   "id": "4de1cc8f",
   "metadata": {},
   "outputs": [],
   "source": [
    "training.isnull().sum()"
   ]
  },
  {
   "cell_type": "code",
   "execution_count": null,
   "id": "09be5532",
   "metadata": {},
   "outputs": [],
   "source": [
    "training.info()"
   ]
  },
  {
   "cell_type": "code",
   "execution_count": null,
   "id": "819c9978",
   "metadata": {},
   "outputs": [],
   "source": [
    "training.head()"
   ]
  },
  {
   "cell_type": "markdown",
   "id": "e98ba0a6",
   "metadata": {},
   "source": [
    "Now our training data is cleaned"
   ]
  },
  {
   "cell_type": "markdown",
   "id": "6377933c",
   "metadata": {},
   "source": [
    "# Stating hypothesis"
   ]
  },
  {
   "cell_type": "markdown",
   "id": "5a922837",
   "metadata": {},
   "source": [
    "## 1. Hypothesis"
   ]
  },
  {
   "cell_type": "markdown",
   "id": "c7d57a6c",
   "metadata": {},
   "source": [
    "Null Hypothesis : There is no significant effect of the tenure period of customers and the churn rate of customers\n",
    "    \n",
    "Alternative Hypothesis : There is a significant effect of the tenure period of customers and the churn rate of customers"
   ]
  },
  {
   "cell_type": "code",
   "execution_count": null,
   "id": "75bbaa23",
   "metadata": {},
   "outputs": [],
   "source": [
    "# Using the 'churn' and 'tenure' columns in our Data\n",
    "df = training[['Churn', 'tenure']]\n",
    "\n",
    "# Create a contingency table\n",
    "contingency_table = pd.crosstab(df['Churn'], df['tenure'])\n",
    "\n",
    "# Perform the chi-square test\n",
    "chi2, p_value, dof, expected = chi2_contingency(contingency_table)\n",
    "\n",
    "# Print the results\n",
    "print(\"Chi-square statistic:\", chi2)\n",
    "print(\"P-value:\", p_value)\n",
    "print(\"Degrees of freedom:\", dof)\n",
    "#print(\"Expected frequencies:\\n\", expected)\n",
    "\n",
    "print()\n",
    "\n",
    "# Interpret the results\n",
    "alpha = 0.05  # Significance level\n",
    "if p_value < alpha:\n",
    "    print(\"There is a statistically significant relationship between churn and tenure.\")\n",
    "    print(\"We can reject the null hypothesis.\")\n",
    "else:\n",
    "    print(\"There is no statistically significant relationship between churn and tenure.\")\n",
    "    print(\"We fail to reject the null hypothesis.\")\n"
   ]
  },
  {
   "cell_type": "markdown",
   "id": "d8a24302",
   "metadata": {},
   "source": [
    "## 2. Hypothesis"
   ]
  },
  {
   "cell_type": "markdown",
   "id": "fbb468fb",
   "metadata": {},
   "source": [
    "Null Hypothesis : There is no significant effect of the contract type of customers and the churn rate of customers\n",
    "    \n",
    "Alternative Hypothesis : There is a significant effect of the contract type of customers and the churn rate of customers"
   ]
  },
  {
   "cell_type": "code",
   "execution_count": null,
   "id": "3ebe3f49",
   "metadata": {},
   "outputs": [],
   "source": [
    "df = training[['Churn', 'Contract']]\n",
    "\n",
    "# Create a contingency table\n",
    "contingency_table = pd.crosstab(df['Churn'], df['Contract'])\n",
    "\n",
    "# Perform the chi-square test\n",
    "chi2, p_value, dof, expected = chi2_contingency(contingency_table)\n",
    "\n",
    "# Print the results\n",
    "print(\"Chi-square statistic:\", chi2)\n",
    "print(\"P-value:\", p_value)\n",
    "print(\"Degrees of freedom:\", dof)\n",
    "#print(\"Expected frequencies:\\n\", expected)\n",
    "\n",
    "print()\n",
    "\n",
    "# Interpret the results\n",
    "alpha = 0.05  # Significance level\n",
    "if p_value < alpha:\n",
    "    print(\"There is a statistically significant relationship between churn and Contract.\")\n",
    "    print(\"We can reject the null hypothesis.\")\n",
    "else:\n",
    "    print(\"There is no statistically significant relationship between churn and Contract.\")\n",
    "    print(\"We fail to reject the null hypothesis.\")"
   ]
  },
  {
   "cell_type": "markdown",
   "id": "90199e13",
   "metadata": {},
   "source": [
    "## 3. Hypothesis"
   ]
  },
  {
   "cell_type": "markdown",
   "id": "b584d9ed",
   "metadata": {},
   "source": [
    "Null Hypothesis : There is no significant effect of the gender of customers and the churn rate of customers\n",
    "    \n",
    "Alternative Hypothesis : There is a significant effect of the gender of customers and the churn rate of customers"
   ]
  },
  {
   "cell_type": "code",
   "execution_count": null,
   "id": "792eb3a8",
   "metadata": {},
   "outputs": [],
   "source": [
    "# Getting the churn and gender columns\n",
    "df = training[['Churn', 'gender']]\n",
    "\n",
    "# Create a contingency table\n",
    "contingency_table = pd.crosstab(df['Churn'], df['gender'])\n",
    "\n",
    "# Perform the chi-square test\n",
    "chi2, p_value, dof, expected = chi2_contingency(contingency_table)\n",
    "\n",
    "# Print the results\n",
    "print(\"Chi-square statistic:\", chi2)\n",
    "print(\"P-value:\", p_value)\n",
    "print(\"Degrees of freedom:\", dof)\n",
    "#print(\"Expected frequencies:\\n\", expected)\n",
    "\n",
    "print()\n",
    "\n",
    "# Interpret the results\n",
    "alpha = 0.05  # Significance level\n",
    "if p_value < alpha:\n",
    "    print(\"There is a statistically significant relationship between churn and gender.\")\n",
    "    print(\"We can reject the null hypothesis.\")\n",
    "else:\n",
    "    print(\"There is no statistically significant relationship between churn and gender.\")\n",
    "    print(\"We fail to reject the null hypothesis.\")"
   ]
  },
  {
   "cell_type": "markdown",
   "id": "9af4dc32",
   "metadata": {},
   "source": [
    "### According to our result we can conclude that there is statistically significant relationship between churn and tenure then between churn and contract but none between churn and gender"
   ]
  },
  {
   "cell_type": "markdown",
   "id": "b4c7472f",
   "metadata": {},
   "source": [
    "## 4. Hypothesis"
   ]
  },
  {
   "cell_type": "markdown",
   "id": "c883be7a",
   "metadata": {},
   "source": [
    "Null Hypothesis : There is no significant effect of being senior citizen for a company to have more churn customers\n",
    "\n",
    "Alternative Hypothesis : There is significant effect of being senior citizen for a company to have more churn customers"
   ]
  },
  {
   "cell_type": "code",
   "execution_count": null,
   "id": "3e6766c2",
   "metadata": {},
   "outputs": [],
   "source": [
    "# Getting the Senior Citizen data \n",
    "citizen = training.SeniorCitizen\n",
    "\n",
    "# Replace Values\n",
    "citizen = citizen.apply(lambda x: str(x).replace(\"No\", \"0\"))\n",
    "citizen = citizen.apply(lambda x: str(x).replace(\"Yes\", \"1\"))\n",
    "\n",
    "# Convert to integer\n",
    "citizen = citizen.astype(int)\n",
    "\n",
    "# Getting the Churn data \n",
    "churn = training.Churn\n",
    "\n",
    "# Replace Values\n",
    "churn = churn.apply(lambda x: str(x).replace(\"No\", \"0\"))\n",
    "churn = churn.apply(lambda x: str(x).replace(\"Yes\", \"1\"))\n",
    "\n",
    "# Convert to integer\n",
    "churn = churn.astype(int)\n",
    "\n",
    "# Results\n",
    "print(stats.shapiro(churn))\n",
    "print(stats.levene(churn, citizen))\n",
    "\n",
    "# Two sample t-test\n",
    "t_stat, p_value = stats.ttest_ind(citizen, churn)\n",
    "print(\"T_Stat:\", t_stat)\n",
    "print(\"P_Value:\", p_value)\n",
    "\n",
    "print()\n",
    "\n",
    "#Interpret Result\n",
    "alpha = 0.05\n",
    "if p_value < alpha:\n",
    "    print(\"Reject Null Hypothesis, P_Value is less than 0.05, so there is a significant effect\")\n",
    "else:\n",
    "    print(\"Failed to reject Null Hypothesis, P_Value is greater than 0.05, so there is no significant effect\")"
   ]
  },
  {
   "cell_type": "markdown",
   "id": "a868af2d",
   "metadata": {},
   "source": [
    "### According to our result we can conclude that there is an effect on being a senior citizen customer or not for the company to lose its users. We recommend the organization to look for senior citiznes to be its users."
   ]
  },
  {
   "cell_type": "code",
   "execution_count": null,
   "id": "c06c4017",
   "metadata": {},
   "outputs": [],
   "source": [
    "seniorcitizen = training[training.SeniorCitizen == \"Yes\"]\n",
    "leave_senior = seniorcitizen[seniorcitizen.Churn == \"Yes\"][\"Churn\"].count()\n",
    "not_seniorcitizen = training[training.SeniorCitizen == \"No\"]\n",
    "not_seniorcitizen = not_seniorcitizen[not_seniorcitizen.Churn == \"Yes\"][\"Churn\"].count()\n",
    "list_citizen = [\"SeniorCitizen\", \"Not SeniorCitizen\"]\n",
    "list_num = [leave_senior, not_seniorcitizen]\n",
    "\n",
    "sns.barplot(x = list_num, y= list_citizen )\n",
    "\n",
    "# Show plot\n",
    "\n",
    "plt.title(\"Number of Customers that left the Company\")\n",
    "plt.xlabel(\"Count\")\n",
    "plt.ylabel(\"Citizenship\")\n",
    "plt.show()"
   ]
  },
  {
   "cell_type": "markdown",
   "id": "121005f8",
   "metadata": {},
   "source": [
    "# Questions to be Answered"
   ]
  },
  {
   "cell_type": "markdown",
   "id": "0e689b38",
   "metadata": {},
   "source": [
    "1. How is the gender distributed?\n",
    "2. How many customers are senior citizen?\n",
    "3. How many customers are using different types of services from the company?\n",
    "4. How many customers churned from the company?\n",
    "5. What is the Average Monthly charge?\n",
    "6. What is the Average of the total charges the company gained?\n",
    "7. What type of Internet service is used by customers?"
   ]
  },
  {
   "cell_type": "markdown",
   "id": "e977e425",
   "metadata": {},
   "source": [
    "### 1. How is the gender distributed?"
   ]
  },
  {
   "cell_type": "code",
   "execution_count": null,
   "id": "3477d97f",
   "metadata": {},
   "outputs": [],
   "source": [
    "# get the total of male and female\n",
    "male = ( training[\"gender\"] == \"Male\" ).sum()\n",
    "female = ( training[\"gender\"] == \"Female\" ).sum()\n",
    "\n",
    "# data labels\n",
    "data = [male, female]\n",
    "labels = ['Male', \"Female\"]\n",
    "\n",
    "#define Seaborn color palette to use\n",
    "colors = sns.color_palette('pastel')[0:5]\n",
    "\n",
    "\n",
    "#create pie chart\n",
    "plt.pie(data, labels = labels, colors = colors, autopct='%.0f%%')\n",
    "plt.title('Gender Distribution')\n",
    "plt.show()"
   ]
  },
  {
   "cell_type": "markdown",
   "id": "c9f6b31f",
   "metadata": {},
   "source": [
    "The gender distribution has no big difference, The data is balanced with gender"
   ]
  },
  {
   "cell_type": "markdown",
   "id": "2d2f272d",
   "metadata": {},
   "source": [
    "## 2. How many customers are senior citizen?"
   ]
  },
  {
   "cell_type": "code",
   "execution_count": null,
   "id": "8b00245f",
   "metadata": {},
   "outputs": [],
   "source": [
    "training.SeniorCitizen.unique()"
   ]
  },
  {
   "cell_type": "code",
   "execution_count": null,
   "id": "fb2bd4c8",
   "metadata": {},
   "outputs": [],
   "source": [
    "# Total count of Senior Citizens\n",
    "training.SeniorCitizen.count()"
   ]
  },
  {
   "cell_type": "code",
   "execution_count": null,
   "id": "f36bd5ea",
   "metadata": {},
   "outputs": [],
   "source": [
    "# Create Chart\n",
    "plt.figure(figsize=(10, 8))\n",
    "sns.countplot(x=\"SeniorCitizen\", data=training)\n",
    "\n",
    "plt.style.use(\"fivethirtyeight\")\n",
    "plt.title('Senior Citizen Customers')\n",
    "plt.xlabel('SeniorCitizen')\n",
    "plt.ylabel('Count')\n",
    "plt.show()\n"
   ]
  },
  {
   "cell_type": "markdown",
   "id": "47550fe1",
   "metadata": {},
   "source": [
    "More than 4000 customers are not senior Citizens and 800 are seniors. This shows a high variance."
   ]
  },
  {
   "cell_type": "markdown",
   "id": "4798d22d",
   "metadata": {},
   "source": [
    "## 3. How many customers are using different types of services from the company?"
   ]
  },
  {
   "cell_type": "code",
   "execution_count": null,
   "id": "062e64b9",
   "metadata": {},
   "outputs": [],
   "source": [
    "# Get the total number of customers using each service\n",
    "MultipleLines = ( training[\"MultipleLines\"] == \"Yes\" ).sum()\n",
    "TechSupport = ( training[\"TechSupport\"] == \"Yes\" ).sum()\n",
    "OnlineSecurity = ( training[\"OnlineSecurity\"] == \"Yes\" ).sum()\n",
    "DeviceProtection = ( training[\"DeviceProtection\"] == \"Yes\" ).sum()\n",
    "OnlineBackup = ( training[\"OnlineBackup\"] == \"Yes\" ).sum()\n",
    "StreamingTV = ( training[\"StreamingTV\"] == \"Yes\" ).sum()\n",
    "Churn = ( training[\"Churn\"] == \"Yes\" ).sum()"
   ]
  },
  {
   "cell_type": "code",
   "execution_count": null,
   "id": "43ecbc1a",
   "metadata": {},
   "outputs": [],
   "source": [
    "# Display the output\n",
    "print(\"MultipleLines has\",MultipleLines, \"customers\")\n",
    "print(\"TechSupport has\",TechSupport, \"customers\")\n",
    "print(\"OnlineSecurity has\",OnlineSecurity, \"customers\")\n",
    "print(\"DeviceProtection has\",DeviceProtection, \"customers\")\n",
    "print(\"OnlineBackup has\",OnlineBackup, \"customers\")\n",
    "print(\"StreamingTV has\",StreamingTV, \"customers\")\n",
    "print(\"There are\",Churn, \"customers that have left the company\")"
   ]
  },
  {
   "cell_type": "code",
   "execution_count": null,
   "id": "d108f811",
   "metadata": {},
   "outputs": [],
   "source": [
    "list_item = [\"MultipleLines\", \"TechSupport\", \"OnlineSecurity\", \"DeviceProtection\", \"OnlineBackup\", \"StreamingTV\", \"Churn\"]\n",
    "list_num = [MultipleLines, TechSupport, OnlineSecurity, DeviceProtection, OnlineBackup, StreamingTV, Churn]\n",
    "list_item"
   ]
  },
  {
   "cell_type": "code",
   "execution_count": null,
   "id": "4a0ddec6",
   "metadata": {},
   "outputs": [],
   "source": [
    "training.StreamingTV"
   ]
  },
  {
   "cell_type": "code",
   "execution_count": null,
   "id": "8b7449f9",
   "metadata": {},
   "outputs": [],
   "source": [
    "# Plot chart\n",
    "plt.figure(figsize=(10, 6))\n",
    "sns.barplot(x = list_num, y= list_item)\n",
    "plt.title('Customers in Different Service Types')\n",
    "plt.ylabel('Service Types')\n",
    "plt.xlabel('Customers')\n",
    "# Show plot\n",
    "plt.show()\n"
   ]
  },
  {
   "cell_type": "markdown",
   "id": "f4bab931",
   "metadata": {},
   "source": [
    "## 4. How many customers churned from the company?"
   ]
  },
  {
   "cell_type": "code",
   "execution_count": null,
   "id": "0dd384df",
   "metadata": {},
   "outputs": [],
   "source": [
    "# Total customers that left and stayed\n",
    "Leave = ( training[\"Churn\"] == \"Yes\" ).sum()\n",
    "Stay = ( training[\"Churn\"] == \"No\" ).sum()\n",
    "\n",
    "data = [Stay, Leave]\n",
    "labels = ['Stay', \"Leave\"]\n",
    "\n",
    "#define Seaborn color palette to use\n",
    "colors = sns.color_palette('pastel')[0:5]\n",
    "\n",
    "#create pie chart\n",
    "plt.pie(data, labels = labels, colors = colors, autopct='%.0f%%')\n",
    "plt.title(\"Percentage of Customers in company\")\n",
    "plt.show()"
   ]
  },
  {
   "cell_type": "markdown",
   "id": "06870cfd",
   "metadata": {},
   "source": [
    "The company's data shows that 75% of customers are leaving. More than 50% of them have no internet service, techsupport and other benefits from the organization"
   ]
  },
  {
   "cell_type": "markdown",
   "id": "faf44e78",
   "metadata": {},
   "source": [
    "## 5. What is the Average Monthly charge?"
   ]
  },
  {
   "cell_type": "code",
   "execution_count": null,
   "id": "4da6f600",
   "metadata": {},
   "outputs": [],
   "source": [
    "# Average monthly charge\n",
    "mean  = training[\"MonthlyCharges\"].mean()\n",
    "print(\"Averge monthly charge is : \", round(mean,2))"
   ]
  },
  {
   "cell_type": "markdown",
   "id": "6861741d",
   "metadata": {},
   "source": [
    "## 6. What is the Average of the total charges the company gained?"
   ]
  },
  {
   "cell_type": "code",
   "execution_count": null,
   "id": "e38c261a",
   "metadata": {},
   "outputs": [],
   "source": [
    "# Getting the average total charges\n",
    "training.TotalCharges =  training.TotalCharges.astype(float)\n",
    "total  = training[\"TotalCharges\"].mean()\n",
    "print(\"Averge Total charge is : \", round(total,2))"
   ]
  },
  {
   "cell_type": "markdown",
   "id": "7855cb63",
   "metadata": {},
   "source": [
    "## 7. What type of Internet service is used by customers?"
   ]
  },
  {
   "cell_type": "code",
   "execution_count": null,
   "id": "924ee744",
   "metadata": {},
   "outputs": [],
   "source": [
    "# Checking the Internet service column\n",
    "training.InternetService"
   ]
  },
  {
   "cell_type": "code",
   "execution_count": null,
   "id": "c4be7885",
   "metadata": {},
   "outputs": [],
   "source": [
    "# Create plot\n",
    "plt.figure(figsize=(10, 6))\n",
    "sns.countplot(x=\"InternetService\", data=training)\n",
    "\n",
    "plt.style.use(\"fivethirtyeight\")\n",
    "\n",
    "plt.title(\"Internet Service Type\")\n",
    "plt.xlabel(\"Service type\")\n",
    "plt.ylabel(\"Amount\")\n",
    "plt.show()"
   ]
  },
  {
   "cell_type": "markdown",
   "id": "78cd08ca",
   "metadata": {},
   "source": [
    "# Checking for outliers"
   ]
  },
  {
   "cell_type": "code",
   "execution_count": null,
   "id": "3296eb45",
   "metadata": {},
   "outputs": [],
   "source": [
    "# Service usage - Monthly Charges\n",
    "# Examining the Average monthly charges with a box plots\n",
    "plt.figure(figsize=(10, 6))\n",
    "sns.boxplot(x='MonthlyCharges', data=training)\n",
    "plt.title('Monthly Charges')\n",
    "plt.xlabel('Charges')\n",
    "plt.show()"
   ]
  },
  {
   "cell_type": "markdown",
   "id": "371687d1",
   "metadata": {},
   "source": [
    "The box plot for monthly charges gives an overview of the distribution of charges among customers. It shows the range, median, quartiles, and any potential outliers in the monthly charges. With this, we can see that the average is around 70 with 20 being the lowest and 120 the highest charge per month. "
   ]
  },
  {
   "cell_type": "code",
   "execution_count": null,
   "id": "8e3c2393",
   "metadata": {},
   "outputs": [],
   "source": [
    "# Service usage - Monthly Charges\n",
    "# Examining the Average monthly charges with a box plots\n",
    "plt.figure(figsize=(10, 6))\n",
    "sns.boxplot(x='TotalCharges', data=training)\n",
    "plt.title('Total Charges')\n",
    "plt.xlabel('Charges')\n",
    "plt.show()"
   ]
  },
  {
   "cell_type": "markdown",
   "id": "92a71815",
   "metadata": {},
   "source": [
    "There is too much outlier in the column TotalCharge. So for the sake of good machine learning model performance it needs to be corrected"
   ]
  },
  {
   "cell_type": "code",
   "execution_count": null,
   "id": "9fb59d20",
   "metadata": {},
   "outputs": [],
   "source": [
    "# Handling outliers\n",
    "training.drop(training.loc[training['TotalCharges'] > 10000].index, inplace=True)  "
   ]
  },
  {
   "cell_type": "code",
   "execution_count": null,
   "id": "0c9b7d53",
   "metadata": {},
   "outputs": [],
   "source": [
    "# Service usage - Monthly Charges\n",
    "# Examining the Average monthly charges with a box plots\n",
    "plt.figure(figsize=(10, 6))\n",
    "sns.boxplot(x='TotalCharges', data=training)\n",
    "plt.title('Total Charges')\n",
    "plt.xlabel('Charges')\n",
    "plt.show()"
   ]
  },
  {
   "cell_type": "markdown",
   "id": "55ba795e",
   "metadata": {},
   "source": [
    "## Univariate Analysis"
   ]
  },
  {
   "cell_type": "markdown",
   "id": "7ab84395",
   "metadata": {},
   "source": [
    "#### Univariate analysis focuses on examining individual variables in isolation. For customer churn data, univariate analysis will involve exploring Churn Distribution, Customer Demographics and Service Usage"
   ]
  },
  {
   "cell_type": "code",
   "execution_count": null,
   "id": "90329a86",
   "metadata": {},
   "outputs": [],
   "source": [
    "# Churn distribution\n",
    "# Calculate the churn rate (percentage of customers who churned)\n",
    "churn_counts = training['Churn'].value_counts()\n",
    "churn_percentages = churn_counts / churn_counts.sum() * 100\n",
    "print(\"Churn Distribution:\")\n",
    "print(churn_percentages)\n"
   ]
  },
  {
   "cell_type": "markdown",
   "id": "687efa07",
   "metadata": {},
   "source": [
    "The churn distribution shows that approximately 26.5% of customers have churned, while around 73.5% have not churned. This indicates a class imbalance, with the churned class being the minority."
   ]
  },
  {
   "cell_type": "code",
   "execution_count": null,
   "id": "b59c06be",
   "metadata": {},
   "outputs": [],
   "source": [
    "# Customer demographics - Gender\n",
    "# Analyzing the gender distributions\n",
    "sns.set(style=\"darkgrid\")\n",
    "plt.figure(figsize=(10, 6))\n",
    "sns.countplot(x='gender', data=training)\n",
    "plt.title('Gender Distribution')\n",
    "plt.xlabel('Gender')\n",
    "plt.ylabel('Count')\n",
    "plt.show()\n"
   ]
  },
  {
   "cell_type": "markdown",
   "id": "44afff80",
   "metadata": {},
   "source": [
    "The gender distribution analysis reveals the count of customers by gender. It shows that the gender is balanced with male slightly higher than female."
   ]
  },
  {
   "cell_type": "code",
   "execution_count": null,
   "id": "6a90dced",
   "metadata": {},
   "outputs": [],
   "source": [
    "# Customer demographics - Senior Citizens\n",
    "# Analyzing the SeniorCitizens distributions\n",
    "plt.figure(figsize=(10, 6))\n",
    "training['SeniorCitizen'].value_counts().plot(kind='bar')\n",
    "plt.title('Senior Citizens Distribution')\n",
    "plt.xlabel('Senior Citizens')\n",
    "plt.ylabel('Count')\n",
    "plt.show()"
   ]
  },
  {
   "cell_type": "markdown",
   "id": "fe04a27f",
   "metadata": {},
   "source": [
    "The gender distribution analysis reveals the count of customers by senior citizens. It shows that there are whole lot more of non-senior citizens than senior citizens."
   ]
  },
  {
   "cell_type": "code",
   "execution_count": null,
   "id": "85d38b22",
   "metadata": {},
   "outputs": [],
   "source": [
    "# Service usage - Monthly Charges\n",
    "# Examining the Average monthly charges with a box plots\n",
    "plt.figure(figsize=(10, 6))\n",
    "sns.boxplot(x='MonthlyCharges', data=training)\n",
    "plt.title('Monthly Charges')\n",
    "plt.xlabel('Charges')\n",
    "plt.show()"
   ]
  },
  {
   "cell_type": "markdown",
   "id": "28d7c5a3",
   "metadata": {},
   "source": [
    "The box plot for monthly charges gives an overview of the distribution of charges among customers. It shows the range, median, quartiles, and any potential outliers in the monthly charges. With this, we can see that the average is around 70 with 20 being the lowest and 120 the highest charge per month. "
   ]
  },
  {
   "cell_type": "markdown",
   "id": "27d53a87",
   "metadata": {},
   "source": [
    "# Bivariate and Multivariate analysis"
   ]
  },
  {
   "cell_type": "markdown",
   "id": "74804967",
   "metadata": {},
   "source": [
    "## Bivariate Analysis"
   ]
  },
  {
   "cell_type": "markdown",
   "id": "d129872d",
   "metadata": {},
   "source": [
    "Bivariate analysis explores the relationship between two variables. In the case of customer churn data, bivariate analysis can help uncover potential correlations or dependencies between different variables and churn"
   ]
  },
  {
   "cell_type": "code",
   "execution_count": null,
   "id": "36c8cec8",
   "metadata": {},
   "outputs": [],
   "source": [
    "# Churn by gender\n",
    "\n",
    "# Analyzing the Churn Rate by Gender to observe any patterns associated with churn\n",
    "PaymentMethod = training.groupby('PaymentMethod')['Churn'].value_counts(normalize=True).unstack().reset_index()\n",
    "PaymentMethod.rename(columns={'No': 'No Churn', 'Yes': 'Churn'}, inplace=True)\n",
    "\n",
    "fig = px.bar(PaymentMethod, x='PaymentMethod', y=['No Churn', 'Churn'], barmode='stack', title='Churn by PaymentMethod')\n",
    "fig.show()"
   ]
  },
  {
   "cell_type": "markdown",
   "id": "38e403ae",
   "metadata": {},
   "source": [
    "The stacked bar chart demonstrates the churn rates categorized by gender. It shows that there is about 80% No Churn rate in both Male and Female and about 20% Churn rate in both too, so there's no pattern in genders."
   ]
  },
  {
   "cell_type": "code",
   "execution_count": null,
   "id": "69eb37d4",
   "metadata": {},
   "outputs": [],
   "source": [
    "# Churn by Payment Method\n",
    "# Analyzing the Churn Rate by Payment Method to observe any patterns associated with churn\n",
    "payment_churn = training.groupby('PaymentMethod')['Churn'].value_counts(normalize=True).unstack().reset_index()\n",
    "payment_churn.rename(columns={'No': 'No Churn', 'Yes': 'Churn'}, inplace=True)\n",
    "\n",
    "fig = px.bar(payment_churn, x='PaymentMethod', y=['No Churn', 'Churn'], barmode='stack', title='Churn by Payment Method')\n",
    "fig.show()"
   ]
  },
  {
   "cell_type": "markdown",
   "id": "7f86e224",
   "metadata": {},
   "source": [
    "The stacked bar chart demonstrates the churn rates categorized by payment method. It shows that Electronic Checks are definitely not the way to go and should be removed."
   ]
  },
  {
   "cell_type": "code",
   "execution_count": null,
   "id": "d42d21af",
   "metadata": {},
   "outputs": [],
   "source": [
    "# Churn and service usage - Monthly Charges\n",
    "# Analyzing the Churn Rate by Monthly Charges to observe any patterns associated with churn\n",
    "fig = px.scatter(training, x='MonthlyCharges', y='Churn', color='Churn', title='Churn and Monthly Charges')\n",
    "fig.show()"
   ]
  },
  {
   "cell_type": "markdown",
   "id": "c118c191",
   "metadata": {},
   "source": [
    "The scatter plot visualizes the relationship between churn and monthly charges. It allows us to observe whether there is any noticeable pattern or trend between higher charges and churn. It can help identify if customers with higher monthly charges are more likely to churn. This shows that charges between 70 to 110 have a higher chance to churn and also not churn which means no noticeable patterns"
   ]
  },
  {
   "cell_type": "code",
   "execution_count": null,
   "id": "ca5a54af",
   "metadata": {},
   "outputs": [],
   "source": [
    "# Churn and contract information - Contract\n",
    "# Analyzing the Churn Rate by Contract to observe any patterns associated with churn\n",
    "contract_churn = training.groupby('Contract')['Churn'].value_counts(normalize=True).unstack().reset_index()\n",
    "contract_churn.rename(columns={'No': 'No Churn', 'Yes': 'Churn'}, inplace=True)\n",
    "\n",
    "fig = px.bar(contract_churn, x='Contract', y=['No Churn', 'Churn'], barmode='stack', title='Churn by Contract Type')\n",
    "fig.show()\n"
   ]
  },
  {
   "cell_type": "markdown",
   "id": "1f5d6a01",
   "metadata": {},
   "source": [
    "The stacked bar chart showcases the churn rates based on different contract types (Month-to-month, One year and Two years). It shows that a signicantly higher percentage of customers are likely to churn with a contract type of Month-to-month."
   ]
  },
  {
   "cell_type": "code",
   "execution_count": null,
   "id": "f056ab6f",
   "metadata": {},
   "outputs": [],
   "source": [
    "# Churn and customer tenure\n",
    "# Analyzing the Churn Rate by customer tenure to observe any patterns associated with churn\n",
    "plt.figure(figsize=(10, 6))\n",
    "sns.histplot(training, x='tenure', hue='Churn', multiple='stack', bins=20, palette='Set1')\n",
    "plt.title('Churn and Customer Tenure')\n",
    "plt.xlabel('Tenure (Months)')\n",
    "plt.ylabel('Count')\n",
    "plt.show()"
   ]
  },
  {
   "cell_type": "markdown",
   "id": "42d7a746",
   "metadata": {},
   "source": [
    "The histogram displays the distribution of customer tenure for both churned and non-churned customers over their tenure in months. This shows that customer loyalty goes a very long with the customers with the highest months(70) having the highest No Churn count compared to its churned count."
   ]
  },
  {
   "cell_type": "code",
   "execution_count": null,
   "id": "d017260a",
   "metadata": {},
   "outputs": [],
   "source": [
    "sns.scatterplot(x = \"tenure\", y = \"TotalCharges\", data = training)\n",
    "plt.title(\"Customer tenure and total charges\")\n",
    "plt.show()"
   ]
  },
  {
   "cell_type": "markdown",
   "id": "cd94d231",
   "metadata": {},
   "source": [
    "## Multivariate Analysis"
   ]
  },
  {
   "cell_type": "markdown",
   "id": "031431b8",
   "metadata": {},
   "source": [
    "Multivariate analysis is a statistical technique used to analyze data with multiple variables simultaneously. It allows you to explore relationships, patterns, and associations among multiple variables in a dataset."
   ]
  },
  {
   "cell_type": "code",
   "execution_count": null,
   "id": "5b797448",
   "metadata": {},
   "outputs": [],
   "source": [
    "#training_data.drop('Unnamed: 0', inplace=True, axis=1)\n",
    "\n",
    "# Correlation matrix\n",
    "correlation_matrix = training.corr()\n",
    "sns.heatmap(correlation_matrix, annot=True, cmap=\"coolwarm\")\n",
    "plt.title(\"Correlation Matrix\")\n",
    "plt.show()"
   ]
  },
  {
   "cell_type": "markdown",
   "id": "8e988ce7",
   "metadata": {},
   "source": [
    "There is a correlation between tenure and total charges"
   ]
  },
  {
   "cell_type": "code",
   "execution_count": null,
   "id": "11cbd511",
   "metadata": {},
   "outputs": [],
   "source": [
    "# Pairplot of tenure, MonthlyCharges and TotalCharges with Churn\n",
    "sns.pairplot(training, vars=[\"tenure\", \"MonthlyCharges\", \"TotalCharges\"], hue=\"Churn\")\n",
    "plt.title(\"Pairplot\")\n",
    "plt.show()"
   ]
  },
  {
   "cell_type": "code",
   "execution_count": null,
   "id": "4c127f02",
   "metadata": {},
   "outputs": [],
   "source": [
    "# Boxplot of Churn and tenure\n",
    "sns.boxplot(x=\"Churn\", y=\"tenure\", data=training)\n",
    "plt.title(\"Boxplot - Churn vs Tenure\")\n",
    "plt.show()"
   ]
  },
  {
   "cell_type": "markdown",
   "id": "3a02ce81",
   "metadata": {},
   "source": [
    "There is an effect of tenure on churning customers"
   ]
  },
  {
   "cell_type": "code",
   "execution_count": null,
   "id": "eb984a33",
   "metadata": {},
   "outputs": [],
   "source": [
    "# Scatterplot of MonthlyCharges and TotalCharges with Churn\n",
    "sns.scatterplot(x=\"MonthlyCharges\", y=\"TotalCharges\", hue=\"Churn\", data=training)\n",
    "plt.title(\"Scatterplot - MonthlyCharges vs TotalCharges\")\n",
    "plt.show()"
   ]
  },
  {
   "cell_type": "code",
   "execution_count": null,
   "id": "0531ea06",
   "metadata": {},
   "outputs": [],
   "source": []
  },
  {
   "cell_type": "markdown",
   "id": "198296e0",
   "metadata": {},
   "source": [
    "# Feature Engineering"
   ]
  },
  {
   "cell_type": "markdown",
   "id": "75eafc33",
   "metadata": {},
   "source": [
    "#### As \"CustomerID\" column is not relevant to our model we can drop it from both train and test data"
   ]
  },
  {
   "cell_type": "code",
   "execution_count": null,
   "id": "6497b0df",
   "metadata": {},
   "outputs": [],
   "source": [
    "test.drop([\"customerID\"] , axis = 1 , inplace = True) \n",
    "training.drop('customerID', inplace=True, axis=1)"
   ]
  },
  {
   "cell_type": "code",
   "execution_count": null,
   "id": "46e69ab5",
   "metadata": {},
   "outputs": [],
   "source": [
    "sns.heatmap( training.corr() , annot = True )"
   ]
  },
  {
   "cell_type": "markdown",
   "id": "199813c7",
   "metadata": {},
   "source": [
    "## Correlation perspectives"
   ]
  },
  {
   "cell_type": "markdown",
   "id": "293e2d50",
   "metadata": {},
   "source": [
    "Customers having a time of high tenure gives a lot of total charge to the company"
   ]
  },
  {
   "cell_type": "code",
   "execution_count": null,
   "id": "44a7df75",
   "metadata": {},
   "outputs": [],
   "source": [
    "sns.scatterplot(x = \"tenure\" , y = \"TotalCharges\" , data=training)\n",
    "plt.title(\"Customers tenure and total charges\")\n",
    "plt.show()"
   ]
  },
  {
   "cell_type": "markdown",
   "id": "d8952d1a",
   "metadata": {},
   "source": [
    "# Features Scaling"
   ]
  },
  {
   "cell_type": "code",
   "execution_count": null,
   "id": "fb1f9326",
   "metadata": {},
   "outputs": [],
   "source": [
    "target_name = \"Churn\"\n",
    "target = training[\"Churn\"]\n",
    "\n",
    "data = training.drop(columns=[\"Churn\"])"
   ]
  },
  {
   "cell_type": "code",
   "execution_count": null,
   "id": "bbc52ba1",
   "metadata": {},
   "outputs": [],
   "source": [
    "# selecting a column by its type\n",
    "\n",
    "numerical_columns_selector = selector(dtype_exclude=object)\n",
    "categorical_columns_selector = selector(dtype_include=object)\n",
    "\n",
    "numerical_columns = numerical_columns_selector(data)\n",
    "categorical_columns = categorical_columns_selector(data)"
   ]
  },
  {
   "cell_type": "code",
   "execution_count": null,
   "id": "e08823a0",
   "metadata": {},
   "outputs": [],
   "source": [
    "# assigning an encoder\n",
    "categorical_preprocessor = OrdinalEncoder()\n",
    "numerical_preprocessor = StandardScaler()"
   ]
  },
  {
   "cell_type": "code",
   "execution_count": null,
   "id": "378af829",
   "metadata": {},
   "outputs": [],
   "source": [
    "# collaborating the processing\n",
    "preprocessor = ColumnTransformer(\n",
    "    [\n",
    "        (\"ordinal-encoder\", categorical_preprocessor, categorical_columns),\n",
    "        (\"standard_scaler\", numerical_preprocessor, numerical_columns),\n",
    "    ]\n",
    ")"
   ]
  },
  {
   "cell_type": "code",
   "execution_count": null,
   "id": "d3ce9532",
   "metadata": {},
   "outputs": [],
   "source": [
    "# Fitting\n",
    "target_t = categorical_preprocessor.fit_transform(target.array.reshape(-1 , 1))"
   ]
  },
  {
   "cell_type": "code",
   "execution_count": null,
   "id": "9bbc6e35",
   "metadata": {},
   "outputs": [],
   "source": [
    "# Assign type int\n",
    "target_t.astype(int)"
   ]
  },
  {
   "cell_type": "code",
   "execution_count": null,
   "id": "791c370e",
   "metadata": {},
   "outputs": [],
   "source": [
    "# Use as dataframe\n",
    "target_t = pd.DataFrame(target_t , columns = [\"Churn\"] )"
   ]
  },
  {
   "cell_type": "code",
   "execution_count": null,
   "id": "1a3e8242",
   "metadata": {},
   "outputs": [],
   "source": [
    "target_t"
   ]
  },
  {
   "cell_type": "code",
   "execution_count": null,
   "id": "d8baab2f",
   "metadata": {},
   "outputs": [],
   "source": [
    "# Count total values\n",
    "target_t.value_counts()"
   ]
  },
  {
   "cell_type": "code",
   "execution_count": null,
   "id": "e6d9c9a6",
   "metadata": {},
   "outputs": [],
   "source": [
    "# function to convert to string\n",
    "def target_to_string(data):\n",
    "    data = data.astype(str)\n",
    "    data = data.apply(lambda x : x.replace(\"0.0\" , \"No\"))\n",
    "    data = data.apply(lambda x : x.replace(\"1.0\" , \"Yes\"))\n",
    "    \n",
    "    return data"
   ]
  },
  {
   "cell_type": "code",
   "execution_count": null,
   "id": "c30d125c",
   "metadata": {},
   "outputs": [],
   "source": [
    "target_t = target_to_string(target_t)\n",
    "target_t"
   ]
  },
  {
   "cell_type": "code",
   "execution_count": null,
   "id": "24023f13",
   "metadata": {},
   "outputs": [],
   "source": [
    "# transform to fit data\n",
    "data_t = preprocessor.fit_transform(data)"
   ]
  },
  {
   "cell_type": "code",
   "execution_count": null,
   "id": "f76de867",
   "metadata": {},
   "outputs": [],
   "source": [
    "# use as dataframe\n",
    "data_t = pd.DataFrame(data_t  ,columns = list(data.columns))"
   ]
  },
  {
   "cell_type": "code",
   "execution_count": null,
   "id": "4e7d415a",
   "metadata": {},
   "outputs": [],
   "source": [
    "data_t.head()"
   ]
  },
  {
   "cell_type": "markdown",
   "id": "c2a47cae",
   "metadata": {},
   "source": [
    "# Balancing the data"
   ]
  },
  {
   "cell_type": "code",
   "execution_count": null,
   "id": "04ccd561",
   "metadata": {},
   "outputs": [],
   "source": [
    "target_t.value_counts()"
   ]
  },
  {
   "cell_type": "code",
   "execution_count": null,
   "id": "8f6ed60f",
   "metadata": {},
   "outputs": [],
   "source": [
    "# Plotting a graph of the target column's values\n",
    "a = target_t.value_counts()\n",
    "\n",
    "x = list(a.index)\n",
    "y = list(a)\n",
    "\n",
    "fig, ax = plt.subplots()    \n",
    "width = 0.75 # the width of the bars \n",
    "ind = np.arange(len(y))  # the x locations for the groups\n",
    "ax.barh(ind, y, width, color=\"blue\")\n",
    "ax.set_yticks(ind+width/2)\n",
    "ax.set_yticklabels(x, minor=False)\n",
    "for i, v in enumerate(y):\n",
    "    ax.text(v + .25, i + .25, str(v), color='blue', fontweight='bold') #add value labels into bar\n",
    "plt.title('Customer Churn')\n",
    "plt.ylabel('Status')\n",
    "plt.xlabel('Number of Customers')\n",
    "plt.show()"
   ]
  },
  {
   "cell_type": "markdown",
   "id": "e1273674",
   "metadata": {},
   "source": [
    "### The above graph shows that the data on our target column is not balanced"
   ]
  },
  {
   "cell_type": "code",
   "execution_count": null,
   "id": "f5e39a7c",
   "metadata": {},
   "outputs": [],
   "source": [
    "# Balancing using Oversampling Technique (SMOTE) which stands for Synthetic Minority Oversampling Technique\n",
    "nm = SMOTE()\n",
    "data_balanced_t , target_balanced_t = nm.fit_resample(data_t , target_t)\n",
    "target_balanced_t.value_counts()"
   ]
  },
  {
   "cell_type": "code",
   "execution_count": null,
   "id": "2d2a41bd",
   "metadata": {},
   "outputs": [],
   "source": [
    "# Plotting the graph to see the balanced data\n",
    "a = target_balanced_t.value_counts()\n",
    "\n",
    "x = list(a.index)\n",
    "y = list(a)\n",
    "\n",
    "fig, ax = plt.subplots()    \n",
    "width = 0.75 # the width of the bars \n",
    "ind = np.arange(len(y))  # the x locations for the groups\n",
    "ax.barh(ind, y, width, color=\"blue\")\n",
    "ax.set_yticks(ind+width/2)\n",
    "ax.set_yticklabels(x, minor=False)\n",
    "for i, v in enumerate(y):\n",
    "    ax.text(v + .25, i + .25, str(v), color='blue', fontweight='bold') #add value labels into bar\n",
    "plt.title('Customer Churn')\n",
    "plt.ylabel('Status')\n",
    "plt.xlabel('Number of Customers')\n",
    "plt.show()"
   ]
  },
  {
   "cell_type": "code",
   "execution_count": null,
   "id": "da70e97a",
   "metadata": {},
   "outputs": [],
   "source": [
    "print(\"Independet Data is : \", data_balanced_t.shape , \"Dependent Data is :\" , target_balanced_t.shape)"
   ]
  },
  {
   "cell_type": "markdown",
   "id": "936ebdee",
   "metadata": {},
   "source": [
    "### ... data balanced"
   ]
  },
  {
   "cell_type": "markdown",
   "id": "dc3c4a33",
   "metadata": {},
   "source": [
    "# Machine Learning Modeling"
   ]
  },
  {
   "cell_type": "code",
   "execution_count": null,
   "id": "12fa6048",
   "metadata": {},
   "outputs": [],
   "source": [
    "# splitting data\n",
    "\n",
    "data_train, data_test, target_train, target_test = train_test_split(\n",
    "    data_balanced_t, target_balanced_t, random_state=42\n",
    ")"
   ]
  },
  {
   "cell_type": "markdown",
   "id": "313c09a8",
   "metadata": {},
   "source": [
    "## Model 1. Logistic Regression"
   ]
  },
  {
   "cell_type": "code",
   "execution_count": null,
   "id": "38a71041",
   "metadata": {},
   "outputs": [],
   "source": [
    "model_trained = []\n",
    "\n",
    "# assigning the module to a variable\n",
    "log = LogisticRegression() \n",
    "\n",
    "# training the model by fitting a training data\n",
    "log.fit(data_train , target_train ) "
   ]
  },
  {
   "cell_type": "code",
   "execution_count": null,
   "id": "83bb5369",
   "metadata": {},
   "outputs": [],
   "source": [
    "model_trained.append(log)"
   ]
  },
  {
   "cell_type": "code",
   "execution_count": null,
   "id": "5c215622",
   "metadata": {},
   "outputs": [],
   "source": [
    "# trying to make a prediction\n",
    "target_predicted = log.predict(data_test)  "
   ]
  },
  {
   "cell_type": "code",
   "execution_count": null,
   "id": "88bf5204",
   "metadata": {},
   "outputs": [],
   "source": [
    "print(\"classification report for :\" , log.__str__())\n",
    "print(classification_report(y_true = target_test , y_pred = target_predicted ))"
   ]
  },
  {
   "cell_type": "markdown",
   "id": "6a48be47",
   "metadata": {},
   "source": [
    "## Confusion matrix"
   ]
  },
  {
   "cell_type": "code",
   "execution_count": null,
   "id": "7a1be4c8",
   "metadata": {},
   "outputs": [],
   "source": [
    "# View confusion matrix\n",
    "def view_confusion(y_true , target):\n",
    "    cm = confusion_matrix(y_true , target)\n",
    "    cm_display = ConfusionMatrixDisplay(cm).plot()"
   ]
  },
  {
   "cell_type": "code",
   "execution_count": null,
   "id": "3919b424",
   "metadata": {},
   "outputs": [],
   "source": [
    "target_predicted"
   ]
  },
  {
   "cell_type": "code",
   "execution_count": null,
   "id": "823824f4",
   "metadata": {},
   "outputs": [],
   "source": [
    "view_confusion(target_predicted, target_test)"
   ]
  },
  {
   "cell_type": "markdown",
   "id": "7b3cd9f0",
   "metadata": {},
   "source": [
    "## Model 2. HistGradientBoostingClassifier"
   ]
  },
  {
   "cell_type": "code",
   "execution_count": null,
   "id": "c603475a",
   "metadata": {},
   "outputs": [],
   "source": [
    "#Define the model\n",
    "hist = HistGradientBoostingClassifier()\n",
    "\n",
    "hist.fit(data_train , target_train )"
   ]
  },
  {
   "cell_type": "code",
   "execution_count": null,
   "id": "b1b868f3",
   "metadata": {},
   "outputs": [],
   "source": [
    "model_trained.append(hist)\n",
    "\n",
    "target_predicted = hist.predict(data_test)\n",
    "\n",
    "print(\"classification report for :\" , hist.__str__())\n",
    "print(classification_report(y_true = target_test , y_pred = target_predicted ))"
   ]
  },
  {
   "cell_type": "code",
   "execution_count": null,
   "id": "0960b5c5",
   "metadata": {},
   "outputs": [],
   "source": [
    "view_confusion(target_predicted, target_test)"
   ]
  },
  {
   "cell_type": "code",
   "execution_count": null,
   "id": "f93ee2f9",
   "metadata": {},
   "outputs": [],
   "source": [
    "## Model 3. K-Nearest Neihgbors"
   ]
  },
  {
   "cell_type": "code",
   "execution_count": null,
   "id": "8633104c",
   "metadata": {},
   "outputs": [],
   "source": [
    "# Define the model\n",
    "kn = KNeighborsClassifier(n_neighbors=5)\n",
    "\n",
    "kn.fit(data_train , target_train )"
   ]
  },
  {
   "cell_type": "code",
   "execution_count": null,
   "id": "3b6c9b85",
   "metadata": {},
   "outputs": [],
   "source": [
    "model_trained.append(kn)\n",
    "\n",
    "target_predicted = kn.predict(data_test)\n",
    "\n",
    "print(\"classification report for :\" , kn.__str__())\n",
    "print(classification_report(y_true = target_test , y_pred = target_predicted ))"
   ]
  },
  {
   "cell_type": "code",
   "execution_count": null,
   "id": "49bfcf60",
   "metadata": {},
   "outputs": [],
   "source": [
    "view_confusion(target_predicted, target_test)"
   ]
  },
  {
   "cell_type": "markdown",
   "id": "08d00161",
   "metadata": {},
   "source": [
    "## Model 4. Support Vector Machine (SVM)"
   ]
  },
  {
   "cell_type": "code",
   "execution_count": null,
   "id": "cd3c5ef2",
   "metadata": {},
   "outputs": [],
   "source": [
    "# Define the model\n",
    "sv = svm.SVC()\n",
    "\n",
    "sv.fit(data_train , target_train)"
   ]
  },
  {
   "cell_type": "code",
   "execution_count": null,
   "id": "f7402202",
   "metadata": {},
   "outputs": [],
   "source": [
    "model_trained.append(sv)\n",
    "\n",
    "target_predicted = sv.predict(data_test)\n",
    "\n",
    "print(\"classification report for :\" , sv.__str__())\n",
    "print(classification_report(y_true = target_test , y_pred = target_predicted ))"
   ]
  },
  {
   "cell_type": "code",
   "execution_count": null,
   "id": "bfb9782f",
   "metadata": {},
   "outputs": [],
   "source": [
    "view_confusion(target_predicted, target_test)"
   ]
  },
  {
   "cell_type": "markdown",
   "id": "b4a28d5f",
   "metadata": {},
   "source": [
    "## Model 5. Decision Tree Classifier"
   ]
  },
  {
   "cell_type": "code",
   "execution_count": null,
   "id": "64773e7f",
   "metadata": {},
   "outputs": [],
   "source": [
    "# Define the model\n",
    "ds = DecisionTreeClassifier()\n",
    "\n",
    "ds.fit(data_train , target_train)"
   ]
  },
  {
   "cell_type": "code",
   "execution_count": null,
   "id": "b6345035",
   "metadata": {},
   "outputs": [],
   "source": [
    "model_trained.append(ds)\n",
    "\n",
    "target_predicted = ds.predict(data_test)\n",
    "\n",
    "print(\"classification report for :\" , ds.__str__())\n",
    "print(classification_report(y_true = target_test , y_pred = target_predicted ))"
   ]
  },
  {
   "cell_type": "code",
   "execution_count": null,
   "id": "b351ec54",
   "metadata": {},
   "outputs": [],
   "source": [
    "view_confusion(target_predicted, target_test)"
   ]
  },
  {
   "cell_type": "code",
   "execution_count": null,
   "id": "1b8aaf20",
   "metadata": {},
   "outputs": [],
   "source": [
    "## Model 6. Random Forest Classifier"
   ]
  },
  {
   "cell_type": "code",
   "execution_count": null,
   "id": "850e277a",
   "metadata": {},
   "outputs": [],
   "source": [
    "rm = RandomForestClassifier()\n",
    "rm.fit(data_train , target_train)"
   ]
  },
  {
   "cell_type": "code",
   "execution_count": null,
   "id": "a75df0ad",
   "metadata": {},
   "outputs": [],
   "source": [
    "model_trained.append(rm)\n",
    "\n",
    "target_predicted = ds.predict(data_test)\n",
    "\n",
    "print(\"classification report for :\" , ds.__str__())\n",
    "print(classification_report(y_true = target_test , y_pred = target_predicted ))"
   ]
  },
  {
   "cell_type": "code",
   "execution_count": null,
   "id": "f915ed1b",
   "metadata": {},
   "outputs": [],
   "source": [
    "view_confusion(target_predicted, target_test)"
   ]
  },
  {
   "cell_type": "markdown",
   "id": "b4f62297",
   "metadata": {},
   "source": [
    "# Model Comparison"
   ]
  },
  {
   "cell_type": "code",
   "execution_count": null,
   "id": "2e305567",
   "metadata": {},
   "outputs": [],
   "source": [
    "# The f1 score metric is used\n",
    "metric = f1_score"
   ]
  },
  {
   "cell_type": "code",
   "execution_count": null,
   "id": "7ab7e08d",
   "metadata": {},
   "outputs": [],
   "source": [
    "# Model information\n",
    "info = [ { \"Model_Name\" : model.__str__(),\n",
    "         f\"metric ( {metric.__name__} ) \": metric(\n",
    "             y_true = target_test,\n",
    "             y_pred = model.predict(data_test),\n",
    "             pos_label = \"Yes\"),  # pos label shows to which prediction value it is pointing\n",
    "             } for model in model_trained ]"
   ]
  },
  {
   "cell_type": "code",
   "execution_count": null,
   "id": "7d26ecc8",
   "metadata": {},
   "outputs": [],
   "source": [
    "# Use it as a dataframe\n",
    "metric = pd.DataFrame(info).sort_values(ascending=False)\n",
    "\n",
    "metric"
   ]
  },
  {
   "cell_type": "markdown",
   "id": "832c0207",
   "metadata": {},
   "source": [
    "This shows that the RandomForest Model has the highest f1 score of 0.859914 with the histgradient model right behind it with f1 score of 0.856989"
   ]
  },
  {
   "cell_type": "markdown",
   "id": "40261508",
   "metadata": {},
   "source": [
    "We could actually combine these two models for higher accuracy but not in this project"
   ]
  },
  {
   "cell_type": "markdown",
   "id": "c60a472c",
   "metadata": {},
   "source": [
    "# Model Evaluation using Hyperparameter Tuning and Cross Validation"
   ]
  },
  {
   "cell_type": "code",
   "execution_count": null,
   "id": "c5823785",
   "metadata": {},
   "outputs": [],
   "source": [
    "# Model Parameters as a dictionary\n",
    "model_params = {\n",
    "    \n",
    "    \"svm\" : {\n",
    "        \"model\" : svm.SVC(gamma=\"auto\"),\n",
    "        \"params\" : {\n",
    "            \"C\" : [200 , 300, 400],\n",
    "            \"kernel\" : [\"linear\", \"rbf\"]\n",
    "        }\n",
    "    },\n",
    "    \"random_forest\" : {\n",
    "        \"model\" : RandomForestClassifier(),\n",
    "        \"params\" : {\n",
    "            \"n_estimators\" : [200 , 300 , 400 ]\n",
    "        }\n",
    "    },\n",
    "    \"logistic_regression\" : {\n",
    "        \"model\" : LogisticRegression(solver=\"liblinear\" , multi_class=\"auto\"),\n",
    "        \"params\" : {\n",
    "            \"C\" : [200, 300 , 400]\n",
    "        }\n",
    "    },\n",
    "    \"decision_tree\" : {\n",
    "        \"model\" : DecisionTreeClassifier(),\n",
    "        \"params\" : {\n",
    "            \"criterion\" : [\"gini\" , \"entropy\"],\n",
    "            \"splitter\" : [\"best\" , \"random\"]\n",
    "        }\n",
    "    },\n",
    "    \"knn classifier\" : {\n",
    "        \"model\" : KNeighborsClassifier(),\n",
    "        \"params\" : {\n",
    "            \"n_neighbors\": [5 , 10 , 20],\n",
    "            \"weights\" : [\"uniform\", \"distance\"], \n",
    "            \"n_jobs\" : [5 , 10 , 20]\n",
    "        }\n",
    "    },    \n",
    "    \"hist gradient classifier\" : {\n",
    "        \"model\" : HistGradientBoostingClassifier(),\n",
    "        \"params\" : {\n",
    "            \"loss\" : [\"log_loss\" , \"auto\" , \"binary_crossentropy\" , \"categorical_crossentropy\" ],\n",
    "            \"learning_rate\" : [0.1 , 1 , 2 ,3],\n",
    "            \"max_depth\" : [25 , 50 , 75 , None],\n",
    "            \"l2_regularization\" : [0 , 1.25 , 1.5 , 2],\n",
    "            \"scoring\" : [\"f1_micro\" , \"loss\"]\n",
    "        }\n",
    "    }\n",
    "}"
   ]
  },
  {
   "cell_type": "code",
   "execution_count": null,
   "id": "7003f7ac",
   "metadata": {},
   "outputs": [],
   "source": [
    "# Getting the best parameters\n",
    "scores = []\n",
    "for model_name , mp in model_params.items():\n",
    "    clf = GridSearchCV(mp[\"model\"] , mp[\"params\"] , cv = 5 , return_train_score=False)\n",
    "    clf.fit(data_train , target_train)\n",
    "    scores.append({\n",
    "        \"model\" : model_name,\n",
    "        \"best_score\" : clf.best_score_,\n",
    "        \"best_params\" : clf.best_params_\n",
    "    })\n",
    "    \n",
    "scores\n",
    "\n",
    "'''\n",
    "scores = []\n",
    "a = 0\n",
    "for model_name , mp in model_params.items():\n",
    "    a = a + 50\n",
    "    clf = GridSearchCV(mp[\"model\"] , mp[\"params\"] , cv = 5 , return_train_score=False)\n",
    "    clf.fit(data_train , target_train)\n",
    "    scores.append({\n",
    "        \"model\" : model_name,\n",
    "        \"best_score\" : clf.best_score_,\n",
    "        \"best_params\" : clf.best_params_\n",
    "    })\n",
    "    print(a , \" percent\")\n",
    "\n",
    "scores\n",
    "\n",
    "'''"
   ]
  },
  {
   "cell_type": "code",
   "execution_count": null,
   "id": "93059b35",
   "metadata": {},
   "outputs": [],
   "source": [
    "# Use a dataframe\n",
    "df = pd.DataFrame(scores).sort_values(ascending=False)\n",
    "df"
   ]
  },
  {
   "cell_type": "markdown",
   "id": "eabdf548",
   "metadata": {},
   "source": [
    "## The above table shows that HistGradient_classifier has the best score which is 85%."
   ]
  },
  {
   "cell_type": "code",
   "execution_count": null,
   "id": "4cad987f",
   "metadata": {},
   "outputs": [],
   "source": [
    "hs = HistGradientBoostingClassifier()\n",
    "hs.fit(data_train , target_train)"
   ]
  },
  {
   "cell_type": "code",
   "execution_count": null,
   "id": "5acf8ea4",
   "metadata": {},
   "outputs": [],
   "source": [
    "target_predicted = rm.predict(data_test)\n",
    "print(classification_report(y_true = target_test , y_pred = target_predicted))"
   ]
  },
  {
   "cell_type": "code",
   "execution_count": null,
   "id": "b6f1e2d6",
   "metadata": {},
   "outputs": [],
   "source": [
    "target_predicted = pd.DataFrame(target_predicted)\n",
    "target_predicted"
   ]
  },
  {
   "cell_type": "code",
   "execution_count": null,
   "id": "9b87e6e1",
   "metadata": {},
   "outputs": [],
   "source": []
  },
  {
   "cell_type": "code",
   "execution_count": null,
   "id": "b6db8e79",
   "metadata": {},
   "outputs": [],
   "source": [
    "predicted_yes = target_predicted[target_predicted == \"Yes\"].count()[0]\n",
    "predicted_no = target_predicted[target_predicted == \"No\"].count()[0]\n",
    "\n",
    "test_yes = target_test[target_test[\"Churn\"] == \"Yes\"].count()[0]\n",
    "test_no = target_test[target_test[\"Churn\"] == \"No\"].count()[0]\n",
    "\n",
    "compare_yes_list = [ [\"Predicted Yes\" ,predicted_yes]  , [\"Test Yes\" , test_yes]    ] \n",
    "compare_yes_table = pd.DataFrame( compare_yes_list , columns = [\"Status\" , \"Count\"])\n",
    "\n",
    "compare_yes_table"
   ]
  },
  {
   "cell_type": "code",
   "execution_count": null,
   "id": "87f7b837",
   "metadata": {},
   "outputs": [],
   "source": [
    "x = list(compare_yes_table[\"Status\"])\n",
    "y = list(compare_yes_table[\"Count\"])\n",
    "\n",
    "fig, ax = plt.subplots()    \n",
    "width = 0.75 # the width of the bars \n",
    "ind = np.arange(len(y))  # the y locations for the bars\n",
    "\n",
    "ax.barh(ind, y, height=width, color=\"blue\")\n",
    "ax.set_yticks(ind)\n",
    "ax.set_yticklabels(x)\n",
    "ax.set_xlabel('Amount')\n",
    "ax.set_ylabel('Status')\n",
    "ax.set_title('Comparison of Customer Churn (\"Yes\")')\n",
    "\n",
    "for i, v in enumerate(y):\n",
    "    ax.text(v + 0.25, i, str(v), color='blue', fontweight='bold') # add value labels into bars\n",
    "\n",
    "plt.show()\n"
   ]
  },
  {
   "cell_type": "code",
   "execution_count": null,
   "id": "ea079a52",
   "metadata": {},
   "outputs": [],
   "source": [
    "compare_no_list = [ [\"Predicted No\" ,predicted_no]  , [\"Test No\" , test_no]    ] \n",
    "compare_no_table = pd.DataFrame( compare_no_list , columns = [\"Status\" , \"Count\"])"
   ]
  },
  {
   "cell_type": "code",
   "execution_count": null,
   "id": "bae2d753",
   "metadata": {},
   "outputs": [],
   "source": [
    "x = list(compare_no_table[\"Status\"])\n",
    "y = list(compare_no_table[\"Count\"])\n",
    "\n",
    "fig, ax = plt.subplots()    \n",
    "width = 0.75 # the width of the bars \n",
    "ind = np.arange(len(y))  # the x locations for the groups\n",
    "ax.barh(ind, y, width, color=\"blue\")\n",
    "ax.set_yticks(ind+width/2)\n",
    "ax.set_yticklabels(x, minor=False)\n",
    "for i, v in enumerate(y):\n",
    "    ax.text(v + .25, i + .25, str(v), color='blue', fontweight='bold') #add value labels into bar\n",
    "plt.title('Comparing For Customer Churn (\"No\")')\n",
    "plt.ylabel('Status')\n",
    "plt.xlabel('Amount')\n",
    "plt.show()"
   ]
  },
  {
   "cell_type": "markdown",
   "id": "f85558e4",
   "metadata": {},
   "source": [
    "# Prediction for our Test data"
   ]
  },
  {
   "cell_type": "markdown",
   "id": "30db3198",
   "metadata": {},
   "source": [
    "### First we are going to scale our test data before predicting"
   ]
  },
  {
   "cell_type": "code",
   "execution_count": null,
   "id": "86ebbde5",
   "metadata": {},
   "outputs": [],
   "source": [
    "test.head()"
   ]
  },
  {
   "cell_type": "code",
   "execution_count": null,
   "id": "d9ddbc17",
   "metadata": {},
   "outputs": [],
   "source": [
    "prepared_data = preprocessor.fit_transform(test)\n",
    "prepared_data"
   ]
  },
  {
   "cell_type": "code",
   "execution_count": null,
   "id": "08009247",
   "metadata": {},
   "outputs": [],
   "source": [
    "churn_predicted = rm.predict(prepared_data)\n",
    "test[\"Churn\"] = churn_predicted\n",
    "\n",
    "# concatenating the churn result\n",
    "# Replacing values\n",
    "test[\"Churn\"] = test[\"Churn\"].astype(str)\n",
    "test[\"Churn\"] = test[\"Churn\"].apply(lambda x : x.replace(\"1.0\" , \"Yes\"))\n",
    "test[\"Churn\"] = test[\"Churn\"].apply(lambda x : x.replace(\"0.0\" , \"No\"))\n",
    "\n",
    "test.head()"
   ]
  },
  {
   "cell_type": "code",
   "execution_count": null,
   "id": "3a674186",
   "metadata": {},
   "outputs": [],
   "source": [
    "test.to_csv(\"Predicted_dataset.csv\")"
   ]
  },
  {
   "cell_type": "markdown",
   "id": "de0e9482",
   "metadata": {},
   "source": [
    "# Prediction visualization"
   ]
  },
  {
   "cell_type": "markdown",
   "id": "17d2d115",
   "metadata": {},
   "source": [
    "## 1 . Payment Method"
   ]
  },
  {
   "cell_type": "code",
   "execution_count": null,
   "id": "4a019f11",
   "metadata": {},
   "outputs": [],
   "source": [
    "payment_churn = test.groupby('PaymentMethod')['Churn'].value_counts(normalize=True).unstack().reset_index()\n",
    "payment_churn.rename(columns={'No': 'No Churn', 'Yes': 'Churn'}, inplace=True)\n",
    "\n",
    "fig = px.bar(payment_churn, x='PaymentMethod', y=['No Churn', 'Churn'], barmode='stack', title='Predicted Precent of customer churn by Payment  Method')\n",
    "fig.show()"
   ]
  },
  {
   "cell_type": "code",
   "execution_count": null,
   "id": "f90f83f5",
   "metadata": {},
   "outputs": [],
   "source": [
    "InternetService = test.groupby('InternetService')['Churn'].value_counts(normalize=True).unstack().reset_index()\n",
    "InternetService.rename(columns={'No': 'No Churn', 'Yes': 'Churn'}, inplace=True)\n",
    "\n",
    "fig = px.bar(InternetService, x='InternetService', y= ['No Churn' , 'Churn'] , barmode='stack', title='Predicted Precent of customer churn by Internet Service')\n",
    "fig.show()"
   ]
  },
  {
   "cell_type": "markdown",
   "id": "22193740",
   "metadata": {},
   "source": [
    "# Export key components"
   ]
  },
  {
   "cell_type": "code",
   "execution_count": null,
   "id": "e4e3d545",
   "metadata": {},
   "outputs": [],
   "source": [
    "components = {\n",
    "    \"pipline\" : preprocessor,\n",
    "    \"models\" : model_trained\n",
    "}"
   ]
  },
  {
   "cell_type": "code",
   "execution_count": null,
   "id": "6b2a1ac0",
   "metadata": {},
   "outputs": [],
   "source": [
    "%mkdir export"
   ]
  },
  {
   "cell_type": "code",
   "execution_count": null,
   "id": "b5171298",
   "metadata": {},
   "outputs": [],
   "source": [
    "import os\n",
    "import pickle"
   ]
  },
  {
   "cell_type": "code",
   "execution_count": null,
   "id": "968a7e83",
   "metadata": {},
   "outputs": [],
   "source": [
    "destination = os.path.join(\".\" , \"export\")"
   ]
  },
  {
   "cell_type": "code",
   "execution_count": null,
   "id": "46fac6cc",
   "metadata": {},
   "outputs": [],
   "source": [
    "with open( os.path.join( destination , \"ml.pkl\" ) , \"wb\" ) as f :\n",
    "    pickle.dump(components , f)"
   ]
  },
  {
   "cell_type": "code",
   "execution_count": null,
   "id": "b1ebc298",
   "metadata": {},
   "outputs": [],
   "source": [
    "obj = pd.read_pickle(r'export/ml.pkl')"
   ]
  },
  {
   "cell_type": "code",
   "execution_count": null,
   "id": "548640e2",
   "metadata": {},
   "outputs": [],
   "source": [
    "obj"
   ]
  },
  {
   "cell_type": "code",
   "execution_count": null,
   "id": "eb16c639",
   "metadata": {},
   "outputs": [],
   "source": [
    "pip freeze > export.requirements.txt"
   ]
  },
  {
   "cell_type": "code",
   "execution_count": null,
   "id": "888a5b26",
   "metadata": {},
   "outputs": [],
   "source": []
  }
 ],
 "metadata": {
  "kernelspec": {
   "display_name": "Python 3 (ipykernel)",
   "language": "python",
   "name": "python3"
  },
  "language_info": {
   "codemirror_mode": {
    "name": "ipython",
    "version": 3
   },
   "file_extension": ".py",
   "mimetype": "text/x-python",
   "name": "python",
   "nbconvert_exporter": "python",
   "pygments_lexer": "ipython3",
   "version": "3.9.7"
  }
 },
 "nbformat": 4,
 "nbformat_minor": 5
}
