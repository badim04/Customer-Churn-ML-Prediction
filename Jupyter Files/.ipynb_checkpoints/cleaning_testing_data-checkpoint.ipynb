{
 "cells": [
  {
   "cell_type": "code",
   "execution_count": 1,
   "id": "e3cdd3dc",
   "metadata": {},
   "outputs": [],
   "source": [
    "import pandas as pd"
   ]
  },
  {
   "cell_type": "code",
   "execution_count": 13,
   "id": "619367b8",
   "metadata": {},
   "outputs": [
    {
     "ename": "FileNotFoundError",
     "evalue": "[Errno 2] No such file or directory: 'data/data_1.csv'",
     "output_type": "error",
     "traceback": [
      "\u001b[1;31m---------------------------------------------------------------------------\u001b[0m",
      "\u001b[1;31mFileNotFoundError\u001b[0m                         Traceback (most recent call last)",
      "\u001b[1;32m~\\AppData\\Local\\Temp\\ipykernel_13296\\972123978.py\u001b[0m in \u001b[0;36m<module>\u001b[1;34m\u001b[0m\n\u001b[1;32m----> 1\u001b[1;33m \u001b[0mdata1\u001b[0m \u001b[1;33m=\u001b[0m \u001b[0mpd\u001b[0m\u001b[1;33m.\u001b[0m\u001b[0mread_csv\u001b[0m\u001b[1;33m(\u001b[0m\u001b[1;34m\"data/data_1.csv\"\u001b[0m\u001b[1;33m)\u001b[0m\u001b[1;33m\u001b[0m\u001b[1;33m\u001b[0m\u001b[0m\n\u001b[0m\u001b[0;32m      2\u001b[0m \u001b[0mdata2\u001b[0m \u001b[1;33m=\u001b[0m \u001b[0mpd\u001b[0m\u001b[1;33m.\u001b[0m\u001b[0mread_csv\u001b[0m\u001b[1;33m(\u001b[0m\u001b[1;34m\"data/data_2.csv\"\u001b[0m\u001b[1;33m)\u001b[0m\u001b[1;33m\u001b[0m\u001b[1;33m\u001b[0m\u001b[0m\n",
      "\u001b[1;32mC:\\ProgramData\\Anaconda3\\lib\\site-packages\\pandas\\util\\_decorators.py\u001b[0m in \u001b[0;36mwrapper\u001b[1;34m(*args, **kwargs)\u001b[0m\n\u001b[0;32m    309\u001b[0m                     \u001b[0mstacklevel\u001b[0m\u001b[1;33m=\u001b[0m\u001b[0mstacklevel\u001b[0m\u001b[1;33m,\u001b[0m\u001b[1;33m\u001b[0m\u001b[1;33m\u001b[0m\u001b[0m\n\u001b[0;32m    310\u001b[0m                 )\n\u001b[1;32m--> 311\u001b[1;33m             \u001b[1;32mreturn\u001b[0m \u001b[0mfunc\u001b[0m\u001b[1;33m(\u001b[0m\u001b[1;33m*\u001b[0m\u001b[0margs\u001b[0m\u001b[1;33m,\u001b[0m \u001b[1;33m**\u001b[0m\u001b[0mkwargs\u001b[0m\u001b[1;33m)\u001b[0m\u001b[1;33m\u001b[0m\u001b[1;33m\u001b[0m\u001b[0m\n\u001b[0m\u001b[0;32m    312\u001b[0m \u001b[1;33m\u001b[0m\u001b[0m\n\u001b[0;32m    313\u001b[0m         \u001b[1;32mreturn\u001b[0m \u001b[0mwrapper\u001b[0m\u001b[1;33m\u001b[0m\u001b[1;33m\u001b[0m\u001b[0m\n",
      "\u001b[1;32mC:\\ProgramData\\Anaconda3\\lib\\site-packages\\pandas\\io\\parsers\\readers.py\u001b[0m in \u001b[0;36mread_csv\u001b[1;34m(filepath_or_buffer, sep, delimiter, header, names, index_col, usecols, squeeze, prefix, mangle_dupe_cols, dtype, engine, converters, true_values, false_values, skipinitialspace, skiprows, skipfooter, nrows, na_values, keep_default_na, na_filter, verbose, skip_blank_lines, parse_dates, infer_datetime_format, keep_date_col, date_parser, dayfirst, cache_dates, iterator, chunksize, compression, thousands, decimal, lineterminator, quotechar, quoting, doublequote, escapechar, comment, encoding, encoding_errors, dialect, error_bad_lines, warn_bad_lines, on_bad_lines, delim_whitespace, low_memory, memory_map, float_precision, storage_options)\u001b[0m\n\u001b[0;32m    676\u001b[0m     \u001b[0mkwds\u001b[0m\u001b[1;33m.\u001b[0m\u001b[0mupdate\u001b[0m\u001b[1;33m(\u001b[0m\u001b[0mkwds_defaults\u001b[0m\u001b[1;33m)\u001b[0m\u001b[1;33m\u001b[0m\u001b[1;33m\u001b[0m\u001b[0m\n\u001b[0;32m    677\u001b[0m \u001b[1;33m\u001b[0m\u001b[0m\n\u001b[1;32m--> 678\u001b[1;33m     \u001b[1;32mreturn\u001b[0m \u001b[0m_read\u001b[0m\u001b[1;33m(\u001b[0m\u001b[0mfilepath_or_buffer\u001b[0m\u001b[1;33m,\u001b[0m \u001b[0mkwds\u001b[0m\u001b[1;33m)\u001b[0m\u001b[1;33m\u001b[0m\u001b[1;33m\u001b[0m\u001b[0m\n\u001b[0m\u001b[0;32m    679\u001b[0m \u001b[1;33m\u001b[0m\u001b[0m\n\u001b[0;32m    680\u001b[0m \u001b[1;33m\u001b[0m\u001b[0m\n",
      "\u001b[1;32mC:\\ProgramData\\Anaconda3\\lib\\site-packages\\pandas\\io\\parsers\\readers.py\u001b[0m in \u001b[0;36m_read\u001b[1;34m(filepath_or_buffer, kwds)\u001b[0m\n\u001b[0;32m    573\u001b[0m \u001b[1;33m\u001b[0m\u001b[0m\n\u001b[0;32m    574\u001b[0m     \u001b[1;31m# Create the parser.\u001b[0m\u001b[1;33m\u001b[0m\u001b[1;33m\u001b[0m\u001b[0m\n\u001b[1;32m--> 575\u001b[1;33m     \u001b[0mparser\u001b[0m \u001b[1;33m=\u001b[0m \u001b[0mTextFileReader\u001b[0m\u001b[1;33m(\u001b[0m\u001b[0mfilepath_or_buffer\u001b[0m\u001b[1;33m,\u001b[0m \u001b[1;33m**\u001b[0m\u001b[0mkwds\u001b[0m\u001b[1;33m)\u001b[0m\u001b[1;33m\u001b[0m\u001b[1;33m\u001b[0m\u001b[0m\n\u001b[0m\u001b[0;32m    576\u001b[0m \u001b[1;33m\u001b[0m\u001b[0m\n\u001b[0;32m    577\u001b[0m     \u001b[1;32mif\u001b[0m \u001b[0mchunksize\u001b[0m \u001b[1;32mor\u001b[0m \u001b[0miterator\u001b[0m\u001b[1;33m:\u001b[0m\u001b[1;33m\u001b[0m\u001b[1;33m\u001b[0m\u001b[0m\n",
      "\u001b[1;32mC:\\ProgramData\\Anaconda3\\lib\\site-packages\\pandas\\io\\parsers\\readers.py\u001b[0m in \u001b[0;36m__init__\u001b[1;34m(self, f, engine, **kwds)\u001b[0m\n\u001b[0;32m    930\u001b[0m \u001b[1;33m\u001b[0m\u001b[0m\n\u001b[0;32m    931\u001b[0m         \u001b[0mself\u001b[0m\u001b[1;33m.\u001b[0m\u001b[0mhandles\u001b[0m\u001b[1;33m:\u001b[0m \u001b[0mIOHandles\u001b[0m \u001b[1;33m|\u001b[0m \u001b[1;32mNone\u001b[0m \u001b[1;33m=\u001b[0m \u001b[1;32mNone\u001b[0m\u001b[1;33m\u001b[0m\u001b[1;33m\u001b[0m\u001b[0m\n\u001b[1;32m--> 932\u001b[1;33m         \u001b[0mself\u001b[0m\u001b[1;33m.\u001b[0m\u001b[0m_engine\u001b[0m \u001b[1;33m=\u001b[0m \u001b[0mself\u001b[0m\u001b[1;33m.\u001b[0m\u001b[0m_make_engine\u001b[0m\u001b[1;33m(\u001b[0m\u001b[0mf\u001b[0m\u001b[1;33m,\u001b[0m \u001b[0mself\u001b[0m\u001b[1;33m.\u001b[0m\u001b[0mengine\u001b[0m\u001b[1;33m)\u001b[0m\u001b[1;33m\u001b[0m\u001b[1;33m\u001b[0m\u001b[0m\n\u001b[0m\u001b[0;32m    933\u001b[0m \u001b[1;33m\u001b[0m\u001b[0m\n\u001b[0;32m    934\u001b[0m     \u001b[1;32mdef\u001b[0m \u001b[0mclose\u001b[0m\u001b[1;33m(\u001b[0m\u001b[0mself\u001b[0m\u001b[1;33m)\u001b[0m\u001b[1;33m:\u001b[0m\u001b[1;33m\u001b[0m\u001b[1;33m\u001b[0m\u001b[0m\n",
      "\u001b[1;32mC:\\ProgramData\\Anaconda3\\lib\\site-packages\\pandas\\io\\parsers\\readers.py\u001b[0m in \u001b[0;36m_make_engine\u001b[1;34m(self, f, engine)\u001b[0m\n\u001b[0;32m   1214\u001b[0m             \u001b[1;31m# \"Union[str, PathLike[str], ReadCsvBuffer[bytes], ReadCsvBuffer[str]]\"\u001b[0m\u001b[1;33m\u001b[0m\u001b[1;33m\u001b[0m\u001b[0m\n\u001b[0;32m   1215\u001b[0m             \u001b[1;31m# , \"str\", \"bool\", \"Any\", \"Any\", \"Any\", \"Any\", \"Any\"\u001b[0m\u001b[1;33m\u001b[0m\u001b[1;33m\u001b[0m\u001b[0m\n\u001b[1;32m-> 1216\u001b[1;33m             self.handles = get_handle(  # type: ignore[call-overload]\n\u001b[0m\u001b[0;32m   1217\u001b[0m                 \u001b[0mf\u001b[0m\u001b[1;33m,\u001b[0m\u001b[1;33m\u001b[0m\u001b[1;33m\u001b[0m\u001b[0m\n\u001b[0;32m   1218\u001b[0m                 \u001b[0mmode\u001b[0m\u001b[1;33m,\u001b[0m\u001b[1;33m\u001b[0m\u001b[1;33m\u001b[0m\u001b[0m\n",
      "\u001b[1;32mC:\\ProgramData\\Anaconda3\\lib\\site-packages\\pandas\\io\\common.py\u001b[0m in \u001b[0;36mget_handle\u001b[1;34m(path_or_buf, mode, encoding, compression, memory_map, is_text, errors, storage_options)\u001b[0m\n\u001b[0;32m    784\u001b[0m         \u001b[1;32mif\u001b[0m \u001b[0mioargs\u001b[0m\u001b[1;33m.\u001b[0m\u001b[0mencoding\u001b[0m \u001b[1;32mand\u001b[0m \u001b[1;34m\"b\"\u001b[0m \u001b[1;32mnot\u001b[0m \u001b[1;32min\u001b[0m \u001b[0mioargs\u001b[0m\u001b[1;33m.\u001b[0m\u001b[0mmode\u001b[0m\u001b[1;33m:\u001b[0m\u001b[1;33m\u001b[0m\u001b[1;33m\u001b[0m\u001b[0m\n\u001b[0;32m    785\u001b[0m             \u001b[1;31m# Encoding\u001b[0m\u001b[1;33m\u001b[0m\u001b[1;33m\u001b[0m\u001b[0m\n\u001b[1;32m--> 786\u001b[1;33m             handle = open(\n\u001b[0m\u001b[0;32m    787\u001b[0m                 \u001b[0mhandle\u001b[0m\u001b[1;33m,\u001b[0m\u001b[1;33m\u001b[0m\u001b[1;33m\u001b[0m\u001b[0m\n\u001b[0;32m    788\u001b[0m                 \u001b[0mioargs\u001b[0m\u001b[1;33m.\u001b[0m\u001b[0mmode\u001b[0m\u001b[1;33m,\u001b[0m\u001b[1;33m\u001b[0m\u001b[1;33m\u001b[0m\u001b[0m\n",
      "\u001b[1;31mFileNotFoundError\u001b[0m: [Errno 2] No such file or directory: 'data/data_1.csv'"
     ]
    }
   ],
   "source": [
    "data1 = pd.read_csv(\"data/data_1.csv\")\n",
    "data2 = pd.read_csv(\"data/data_2.csv\")"
   ]
  },
  {
   "cell_type": "code",
   "execution_count": null,
   "id": "4839dd36",
   "metadata": {},
   "outputs": [],
   "source": [
    "main_df = pd.concat([data1,data2])"
   ]
  },
  {
   "cell_type": "markdown",
   "id": "c1585416",
   "metadata": {},
   "source": [
    "# Cleaning Testing data"
   ]
  },
  {
   "cell_type": "code",
   "execution_count": null,
   "id": "9dddb15b",
   "metadata": {},
   "outputs": [],
   "source": [
    "main_df.isnull().any()"
   ]
  },
  {
   "cell_type": "markdown",
   "id": "1f561f08",
   "metadata": {},
   "source": [
    "## Handling \"Column1\""
   ]
  },
  {
   "cell_type": "code",
   "execution_count": null,
   "id": "a04462ae",
   "metadata": {},
   "outputs": [],
   "source": [
    "main_df.Column1"
   ]
  },
  {
   "cell_type": "code",
   "execution_count": null,
   "id": "a3bb1e48",
   "metadata": {},
   "outputs": [],
   "source": [
    "main_df.drop('Column1', inplace=True, axis=1)"
   ]
  },
  {
   "cell_type": "code",
   "execution_count": null,
   "id": "068292c1",
   "metadata": {},
   "outputs": [],
   "source": [
    "main_df"
   ]
  },
  {
   "cell_type": "code",
   "execution_count": null,
   "id": "d284966b",
   "metadata": {},
   "outputs": [],
   "source": [
    "main_df.isnull().any()"
   ]
  },
  {
   "cell_type": "markdown",
   "id": "734b01bd",
   "metadata": {},
   "source": [
    "## Handling column \"MultipleLines\""
   ]
  },
  {
   "cell_type": "code",
   "execution_count": null,
   "id": "686b390a",
   "metadata": {},
   "outputs": [],
   "source": [
    "main_df[\"MultipleLines\"].unique()"
   ]
  },
  {
   "cell_type": "code",
   "execution_count": null,
   "id": "d2a56ce9",
   "metadata": {},
   "outputs": [],
   "source": [
    "main_df[\"MultipleLines\"] = main_df[\"MultipleLines\"].astype(str) # changing to string"
   ]
  },
  {
   "cell_type": "code",
   "execution_count": null,
   "id": "41457e01",
   "metadata": {},
   "outputs": [],
   "source": [
    "#  replacing values\n",
    "\n",
    "main_df[\"MultipleLines\"] = main_df[\"MultipleLines\"].apply(lambda x: x.replace(\"False\",\"No\"))\n",
    "#main_df[\"MultipleLines\"] = main_df[\"MultipleLines\"].apply(lambda x: x.replace('No phone service',\"No\"))\n",
    "main_df[\"MultipleLines\"] = main_df[\"MultipleLines\"].apply(lambda x: x.replace('True',\"Yes\"))\n",
    "main_df[\"MultipleLines\"] = main_df[\"MultipleLines\"].apply(lambda x: x.replace(\"nan\",\"Yes\"))"
   ]
  },
  {
   "cell_type": "markdown",
   "id": "43ea41af",
   "metadata": {},
   "source": [
    "# Handling column \"OnlineSecurity\""
   ]
  },
  {
   "cell_type": "code",
   "execution_count": 3,
   "id": "8e9e86d8",
   "metadata": {},
   "outputs": [
    {
     "ename": "NameError",
     "evalue": "name 'main_df' is not defined",
     "output_type": "error",
     "traceback": [
      "\u001b[1;31m---------------------------------------------------------------------------\u001b[0m",
      "\u001b[1;31mNameError\u001b[0m                                 Traceback (most recent call last)",
      "\u001b[1;32m~\\AppData\\Local\\Temp\\ipykernel_13296\\1749991392.py\u001b[0m in \u001b[0;36m<module>\u001b[1;34m\u001b[0m\n\u001b[1;32m----> 1\u001b[1;33m \u001b[0mmain_df\u001b[0m\u001b[1;33m[\u001b[0m\u001b[1;34m\"OnlineSecurity\"\u001b[0m\u001b[1;33m]\u001b[0m \u001b[1;33m=\u001b[0m \u001b[0mmain_df\u001b[0m\u001b[1;33m[\u001b[0m\u001b[1;34m\"OnlineSecurity\"\u001b[0m\u001b[1;33m]\u001b[0m\u001b[1;33m.\u001b[0m\u001b[0mastype\u001b[0m\u001b[1;33m(\u001b[0m\u001b[0mstr\u001b[0m\u001b[1;33m)\u001b[0m\u001b[1;33m\u001b[0m\u001b[1;33m\u001b[0m\u001b[0m\n\u001b[0m",
      "\u001b[1;31mNameError\u001b[0m: name 'main_df' is not defined"
     ]
    }
   ],
   "source": [
    "main_df[\"OnlineSecurity\"] = main_df[\"OnlineSecurity\"].astype(str)"
   ]
  },
  {
   "cell_type": "code",
   "execution_count": 4,
   "id": "d55341bc",
   "metadata": {},
   "outputs": [
    {
     "ename": "NameError",
     "evalue": "name 'main_df' is not defined",
     "output_type": "error",
     "traceback": [
      "\u001b[1;31m---------------------------------------------------------------------------\u001b[0m",
      "\u001b[1;31mNameError\u001b[0m                                 Traceback (most recent call last)",
      "\u001b[1;32m~\\AppData\\Local\\Temp\\ipykernel_13296\\654602883.py\u001b[0m in \u001b[0;36m<module>\u001b[1;34m\u001b[0m\n\u001b[1;32m----> 1\u001b[1;33m \u001b[0mmain_df\u001b[0m\u001b[1;33m[\u001b[0m\u001b[1;34m\"OnlineSecurity\"\u001b[0m\u001b[1;33m]\u001b[0m\u001b[1;33m.\u001b[0m\u001b[0munique\u001b[0m\u001b[1;33m(\u001b[0m\u001b[1;33m)\u001b[0m\u001b[1;33m\u001b[0m\u001b[1;33m\u001b[0m\u001b[0m\n\u001b[0m",
      "\u001b[1;31mNameError\u001b[0m: name 'main_df' is not defined"
     ]
    }
   ],
   "source": [
    "main_df[\"OnlineSecurity\"].unique()"
   ]
  },
  {
   "cell_type": "code",
   "execution_count": 5,
   "id": "0c5e4bca",
   "metadata": {},
   "outputs": [
    {
     "ename": "NameError",
     "evalue": "name 'main_df' is not defined",
     "output_type": "error",
     "traceback": [
      "\u001b[1;31m---------------------------------------------------------------------------\u001b[0m",
      "\u001b[1;31mNameError\u001b[0m                                 Traceback (most recent call last)",
      "\u001b[1;32m~\\AppData\\Local\\Temp\\ipykernel_13296\\934696995.py\u001b[0m in \u001b[0;36m<module>\u001b[1;34m\u001b[0m\n\u001b[0;32m      1\u001b[0m \u001b[1;31m#  replacing values\u001b[0m\u001b[1;33m\u001b[0m\u001b[1;33m\u001b[0m\u001b[0m\n\u001b[0;32m      2\u001b[0m \u001b[1;33m\u001b[0m\u001b[0m\n\u001b[1;32m----> 3\u001b[1;33m \u001b[0mmain_df\u001b[0m\u001b[1;33m[\u001b[0m\u001b[1;34m\"OnlineSecurity\"\u001b[0m\u001b[1;33m]\u001b[0m \u001b[1;33m=\u001b[0m \u001b[0mmain_df\u001b[0m\u001b[1;33m[\u001b[0m\u001b[1;34m\"OnlineSecurity\"\u001b[0m\u001b[1;33m]\u001b[0m\u001b[1;33m.\u001b[0m\u001b[0mapply\u001b[0m\u001b[1;33m(\u001b[0m\u001b[1;32mlambda\u001b[0m \u001b[0mx\u001b[0m\u001b[1;33m:\u001b[0m \u001b[0mx\u001b[0m\u001b[1;33m.\u001b[0m\u001b[0mreplace\u001b[0m\u001b[1;33m(\u001b[0m\u001b[1;34m\"False\"\u001b[0m\u001b[1;33m,\u001b[0m\u001b[1;34m\"No\"\u001b[0m\u001b[1;33m)\u001b[0m\u001b[1;33m)\u001b[0m\u001b[1;33m\u001b[0m\u001b[1;33m\u001b[0m\u001b[0m\n\u001b[0m\u001b[0;32m      4\u001b[0m \u001b[1;31m#main_df[\"OnlineSecurity\"] = main_df[\"OnlineSecurity\"].apply(lambda x: x.replace('No internet service',\"No\"))\u001b[0m\u001b[1;33m\u001b[0m\u001b[1;33m\u001b[0m\u001b[0m\n\u001b[0;32m      5\u001b[0m \u001b[0mmain_df\u001b[0m\u001b[1;33m[\u001b[0m\u001b[1;34m\"OnlineSecurity\"\u001b[0m\u001b[1;33m]\u001b[0m \u001b[1;33m=\u001b[0m \u001b[0mmain_df\u001b[0m\u001b[1;33m[\u001b[0m\u001b[1;34m\"OnlineSecurity\"\u001b[0m\u001b[1;33m]\u001b[0m\u001b[1;33m.\u001b[0m\u001b[0mapply\u001b[0m\u001b[1;33m(\u001b[0m\u001b[1;32mlambda\u001b[0m \u001b[0mx\u001b[0m\u001b[1;33m:\u001b[0m \u001b[0mx\u001b[0m\u001b[1;33m.\u001b[0m\u001b[0mreplace\u001b[0m\u001b[1;33m(\u001b[0m\u001b[1;34m'True'\u001b[0m\u001b[1;33m,\u001b[0m\u001b[1;34m\"Yes\"\u001b[0m\u001b[1;33m)\u001b[0m\u001b[1;33m)\u001b[0m\u001b[1;33m\u001b[0m\u001b[1;33m\u001b[0m\u001b[0m\n",
      "\u001b[1;31mNameError\u001b[0m: name 'main_df' is not defined"
     ]
    }
   ],
   "source": [
    "#  replacing values\n",
    "\n",
    "main_df[\"OnlineSecurity\"] = main_df[\"OnlineSecurity\"].apply(lambda x: x.replace(\"False\",\"No\"))\n",
    "#main_df[\"OnlineSecurity\"] = main_df[\"OnlineSecurity\"].apply(lambda x: x.replace('No internet service',\"No\"))\n",
    "main_df[\"OnlineSecurity\"] = main_df[\"OnlineSecurity\"].apply(lambda x: x.replace('True',\"Yes\"))\n",
    "main_df[\"OnlineSecurity\"] = main_df[\"OnlineSecurity\"].apply(lambda x: x.replace(\"nan\",\"No\"))"
   ]
  },
  {
   "cell_type": "markdown",
   "id": "2a5426cf",
   "metadata": {},
   "source": [
    "## Handling column \"OnlineBackup\""
   ]
  },
  {
   "cell_type": "code",
   "execution_count": 6,
   "id": "a12a68b5",
   "metadata": {},
   "outputs": [
    {
     "ename": "NameError",
     "evalue": "name 'main_df' is not defined",
     "output_type": "error",
     "traceback": [
      "\u001b[1;31m---------------------------------------------------------------------------\u001b[0m",
      "\u001b[1;31mNameError\u001b[0m                                 Traceback (most recent call last)",
      "\u001b[1;32m~\\AppData\\Local\\Temp\\ipykernel_13296\\3342875938.py\u001b[0m in \u001b[0;36m<module>\u001b[1;34m\u001b[0m\n\u001b[1;32m----> 1\u001b[1;33m \u001b[0mmain_df\u001b[0m\u001b[1;33m[\u001b[0m\u001b[1;34m\"OnlineBackup\"\u001b[0m\u001b[1;33m]\u001b[0m\u001b[1;33m.\u001b[0m\u001b[0munique\u001b[0m\u001b[1;33m(\u001b[0m\u001b[1;33m)\u001b[0m\u001b[1;33m\u001b[0m\u001b[1;33m\u001b[0m\u001b[0m\n\u001b[0m",
      "\u001b[1;31mNameError\u001b[0m: name 'main_df' is not defined"
     ]
    }
   ],
   "source": [
    "main_df[\"OnlineBackup\"].unique()"
   ]
  },
  {
   "cell_type": "code",
   "execution_count": 7,
   "id": "4c2456f5",
   "metadata": {},
   "outputs": [
    {
     "ename": "NameError",
     "evalue": "name 'main_df' is not defined",
     "output_type": "error",
     "traceback": [
      "\u001b[1;31m---------------------------------------------------------------------------\u001b[0m",
      "\u001b[1;31mNameError\u001b[0m                                 Traceback (most recent call last)",
      "\u001b[1;32m~\\AppData\\Local\\Temp\\ipykernel_13296\\2150746120.py\u001b[0m in \u001b[0;36m<module>\u001b[1;34m\u001b[0m\n\u001b[1;32m----> 1\u001b[1;33m \u001b[0mmain_df\u001b[0m\u001b[1;33m[\u001b[0m\u001b[1;34m\"OnlineBackup\"\u001b[0m\u001b[1;33m]\u001b[0m \u001b[1;33m=\u001b[0m \u001b[0mmain_df\u001b[0m\u001b[1;33m[\u001b[0m\u001b[1;34m\"OnlineBackup\"\u001b[0m\u001b[1;33m]\u001b[0m\u001b[1;33m.\u001b[0m\u001b[0mastype\u001b[0m\u001b[1;33m(\u001b[0m\u001b[0mstr\u001b[0m\u001b[1;33m)\u001b[0m\u001b[1;33m\u001b[0m\u001b[1;33m\u001b[0m\u001b[0m\n\u001b[0m",
      "\u001b[1;31mNameError\u001b[0m: name 'main_df' is not defined"
     ]
    }
   ],
   "source": [
    "main_df[\"OnlineBackup\"] = main_df[\"OnlineBackup\"].astype(str)"
   ]
  },
  {
   "cell_type": "code",
   "execution_count": 8,
   "id": "5ac97ba9",
   "metadata": {},
   "outputs": [
    {
     "ename": "NameError",
     "evalue": "name 'main_df' is not defined",
     "output_type": "error",
     "traceback": [
      "\u001b[1;31m---------------------------------------------------------------------------\u001b[0m",
      "\u001b[1;31mNameError\u001b[0m                                 Traceback (most recent call last)",
      "\u001b[1;32m~\\AppData\\Local\\Temp\\ipykernel_13296\\2001066594.py\u001b[0m in \u001b[0;36m<module>\u001b[1;34m\u001b[0m\n\u001b[0;32m      1\u001b[0m \u001b[1;31m#  replacing values\u001b[0m\u001b[1;33m\u001b[0m\u001b[1;33m\u001b[0m\u001b[0m\n\u001b[0;32m      2\u001b[0m \u001b[1;33m\u001b[0m\u001b[0m\n\u001b[1;32m----> 3\u001b[1;33m \u001b[0mmain_df\u001b[0m\u001b[1;33m[\u001b[0m\u001b[1;34m\"OnlineBackup\"\u001b[0m\u001b[1;33m]\u001b[0m \u001b[1;33m=\u001b[0m \u001b[0mmain_df\u001b[0m\u001b[1;33m[\u001b[0m\u001b[1;34m\"OnlineBackup\"\u001b[0m\u001b[1;33m]\u001b[0m\u001b[1;33m.\u001b[0m\u001b[0mapply\u001b[0m\u001b[1;33m(\u001b[0m\u001b[1;32mlambda\u001b[0m \u001b[0mx\u001b[0m\u001b[1;33m:\u001b[0m \u001b[0mx\u001b[0m\u001b[1;33m.\u001b[0m\u001b[0mreplace\u001b[0m\u001b[1;33m(\u001b[0m\u001b[1;34m\"False\"\u001b[0m\u001b[1;33m,\u001b[0m\u001b[1;34m\"No\"\u001b[0m\u001b[1;33m)\u001b[0m\u001b[1;33m)\u001b[0m\u001b[1;33m\u001b[0m\u001b[1;33m\u001b[0m\u001b[0m\n\u001b[0m\u001b[0;32m      4\u001b[0m \u001b[1;31m#main_df[\"OnlineBackup\"] = main_df[\"OnlineBackup\"].apply(lambda x: x.replace('No internet service',\"No\"))\u001b[0m\u001b[1;33m\u001b[0m\u001b[1;33m\u001b[0m\u001b[0m\n\u001b[0;32m      5\u001b[0m \u001b[0mmain_df\u001b[0m\u001b[1;33m[\u001b[0m\u001b[1;34m\"OnlineBackup\"\u001b[0m\u001b[1;33m]\u001b[0m \u001b[1;33m=\u001b[0m \u001b[0mmain_df\u001b[0m\u001b[1;33m[\u001b[0m\u001b[1;34m\"OnlineBackup\"\u001b[0m\u001b[1;33m]\u001b[0m\u001b[1;33m.\u001b[0m\u001b[0mapply\u001b[0m\u001b[1;33m(\u001b[0m\u001b[1;32mlambda\u001b[0m \u001b[0mx\u001b[0m\u001b[1;33m:\u001b[0m \u001b[0mx\u001b[0m\u001b[1;33m.\u001b[0m\u001b[0mreplace\u001b[0m\u001b[1;33m(\u001b[0m\u001b[1;34m'True'\u001b[0m\u001b[1;33m,\u001b[0m\u001b[1;34m\"Yes\"\u001b[0m\u001b[1;33m)\u001b[0m\u001b[1;33m)\u001b[0m\u001b[1;33m\u001b[0m\u001b[1;33m\u001b[0m\u001b[0m\n",
      "\u001b[1;31mNameError\u001b[0m: name 'main_df' is not defined"
     ]
    }
   ],
   "source": [
    "#  replacing values\n",
    "\n",
    "main_df[\"OnlineBackup\"] = main_df[\"OnlineBackup\"].apply(lambda x: x.replace(\"False\",\"No\"))\n",
    "#main_df[\"OnlineBackup\"] = main_df[\"OnlineBackup\"].apply(lambda x: x.replace('No internet service',\"No\"))\n",
    "main_df[\"OnlineBackup\"] = main_df[\"OnlineBackup\"].apply(lambda x: x.replace('True',\"Yes\"))\n",
    "main_df[\"OnlineBackup\"] = main_df[\"OnlineBackup\"].apply(lambda x: x.replace(\"nan\",\"No\"))"
   ]
  },
  {
   "cell_type": "markdown",
   "id": "ca7c3827",
   "metadata": {},
   "source": [
    "## Handling column \"DeviceProtection\""
   ]
  },
  {
   "cell_type": "code",
   "execution_count": 9,
   "id": "3ffa21c9",
   "metadata": {},
   "outputs": [
    {
     "ename": "NameError",
     "evalue": "name 'main_df' is not defined",
     "output_type": "error",
     "traceback": [
      "\u001b[1;31m---------------------------------------------------------------------------\u001b[0m",
      "\u001b[1;31mNameError\u001b[0m                                 Traceback (most recent call last)",
      "\u001b[1;32m~\\AppData\\Local\\Temp\\ipykernel_13296\\283048318.py\u001b[0m in \u001b[0;36m<module>\u001b[1;34m\u001b[0m\n\u001b[1;32m----> 1\u001b[1;33m \u001b[0mmain_df\u001b[0m\u001b[1;33m[\u001b[0m\u001b[1;34m\"DeviceProtection\"\u001b[0m\u001b[1;33m]\u001b[0m\u001b[1;33m.\u001b[0m\u001b[0munique\u001b[0m\u001b[1;33m(\u001b[0m\u001b[1;33m)\u001b[0m\u001b[1;33m\u001b[0m\u001b[1;33m\u001b[0m\u001b[0m\n\u001b[0m",
      "\u001b[1;31mNameError\u001b[0m: name 'main_df' is not defined"
     ]
    }
   ],
   "source": [
    "main_df[\"DeviceProtection\"].unique()"
   ]
  },
  {
   "cell_type": "code",
   "execution_count": 10,
   "id": "25cecaae",
   "metadata": {},
   "outputs": [
    {
     "ename": "NameError",
     "evalue": "name 'main_df' is not defined",
     "output_type": "error",
     "traceback": [
      "\u001b[1;31m---------------------------------------------------------------------------\u001b[0m",
      "\u001b[1;31mNameError\u001b[0m                                 Traceback (most recent call last)",
      "\u001b[1;32m~\\AppData\\Local\\Temp\\ipykernel_13296\\3498342942.py\u001b[0m in \u001b[0;36m<module>\u001b[1;34m\u001b[0m\n\u001b[1;32m----> 1\u001b[1;33m \u001b[0mmain_df\u001b[0m\u001b[1;33m[\u001b[0m\u001b[1;34m\"DeviceProtection\"\u001b[0m\u001b[1;33m]\u001b[0m \u001b[1;33m=\u001b[0m \u001b[0mmain_df\u001b[0m\u001b[1;33m[\u001b[0m\u001b[1;34m\"DeviceProtection\"\u001b[0m\u001b[1;33m]\u001b[0m\u001b[1;33m.\u001b[0m\u001b[0mastype\u001b[0m\u001b[1;33m(\u001b[0m\u001b[0mstr\u001b[0m\u001b[1;33m)\u001b[0m\u001b[1;33m\u001b[0m\u001b[1;33m\u001b[0m\u001b[0m\n\u001b[0m",
      "\u001b[1;31mNameError\u001b[0m: name 'main_df' is not defined"
     ]
    }
   ],
   "source": [
    "main_df[\"DeviceProtection\"] = main_df[\"DeviceProtection\"].astype(str)"
   ]
  },
  {
   "cell_type": "code",
   "execution_count": 256,
   "id": "83c280bd",
   "metadata": {},
   "outputs": [],
   "source": [
    "#  replacing values\n",
    "\n",
    "main_df[\"DeviceProtection\"] = main_df[\"DeviceProtection\"].apply(lambda x: x.replace(\"False\",\"No\"))\n",
    "#main_df[\"DeviceProtection\"] = main_df[\"DeviceProtection\"].apply(lambda x: x.replace('No internet service',\"No\"))\n",
    "main_df[\"DeviceProtection\"] = main_df[\"DeviceProtection\"].apply(lambda x: x.replace('True',\"Yes\"))\n",
    "main_df[\"DeviceProtection\"] = main_df[\"DeviceProtection\"].apply(lambda x: x.replace(\"nan\",\"No\"))"
   ]
  },
  {
   "cell_type": "markdown",
   "id": "8b0ac6df",
   "metadata": {},
   "source": [
    "## Handling column \"TechSupport\""
   ]
  },
  {
   "cell_type": "code",
   "execution_count": 257,
   "id": "c72d72ef",
   "metadata": {},
   "outputs": [
    {
     "data": {
      "text/plain": [
       "array([False, True, nan, 'Yes', 'No', 'No internet service'], dtype=object)"
      ]
     },
     "execution_count": 257,
     "metadata": {},
     "output_type": "execute_result"
    }
   ],
   "source": [
    "main_df[\"TechSupport\"].unique()"
   ]
  },
  {
   "cell_type": "code",
   "execution_count": 258,
   "id": "de64eb5a",
   "metadata": {},
   "outputs": [],
   "source": [
    "main_df[\"TechSupport\"] = main_df[\"TechSupport\"].astype(str)"
   ]
  },
  {
   "cell_type": "code",
   "execution_count": 259,
   "id": "4abef8ac",
   "metadata": {},
   "outputs": [],
   "source": [
    "#  replacing values\n",
    "\n",
    "main_df[\"TechSupport\"] = main_df[\"TechSupport\"].apply(lambda x: x.replace(\"False\",\"No\"))\n",
    "#main_df[\"TechSupport\"] = main_df[\"TechSupport\"].apply(lambda x: x.replace('No internet service',\"No\"))\n",
    "main_df[\"TechSupport\"] = main_df[\"TechSupport\"].apply(lambda x: x.replace('True',\"Yes\"))\n",
    "main_df[\"TechSupport\"] = main_df[\"TechSupport\"].apply(lambda x: x.replace(\"nan\",\"No\"))"
   ]
  },
  {
   "cell_type": "markdown",
   "id": "2821288b",
   "metadata": {},
   "source": [
    "## Handling column \"StreamingTV\""
   ]
  },
  {
   "cell_type": "code",
   "execution_count": 260,
   "id": "aacc0f7a",
   "metadata": {},
   "outputs": [
    {
     "data": {
      "text/plain": [
       "array([False, True, nan, 'No', 'Yes', 'No internet service'], dtype=object)"
      ]
     },
     "execution_count": 260,
     "metadata": {},
     "output_type": "execute_result"
    }
   ],
   "source": [
    "main_df[\"StreamingTV\"].unique()"
   ]
  },
  {
   "cell_type": "code",
   "execution_count": 261,
   "id": "1e7f33c7",
   "metadata": {},
   "outputs": [],
   "source": [
    "main_df[\"StreamingTV\"] = main_df[\"StreamingTV\"].astype(str)"
   ]
  },
  {
   "cell_type": "code",
   "execution_count": 262,
   "id": "df75273d",
   "metadata": {},
   "outputs": [],
   "source": [
    "#  replacing values\n",
    "\n",
    "main_df[\"StreamingTV\"] = main_df[\"StreamingTV\"].apply(lambda x: x.replace(\"False\",\"No\"))\n",
    "#main_df[\"StreamingTV\"] = main_df[\"StreamingTV\"].apply(lambda x: x.replace('No internet service',\"No\"))\n",
    "main_df[\"StreamingTV\"] = main_df[\"StreamingTV\"].apply(lambda x: x.replace('True',\"Yes\"))\n",
    "main_df[\"StreamingTV\"] = main_df[\"StreamingTV\"].apply(lambda x: x.replace(\"nan\",\"No\"))"
   ]
  },
  {
   "cell_type": "markdown",
   "id": "10a7dbd2",
   "metadata": {},
   "source": [
    "## Handling column \"StreamingMovies\""
   ]
  },
  {
   "cell_type": "code",
   "execution_count": 263,
   "id": "1c78173c",
   "metadata": {},
   "outputs": [
    {
     "data": {
      "text/plain": [
       "array([False, True, nan, 'No', 'Yes', 'No internet service'], dtype=object)"
      ]
     },
     "execution_count": 263,
     "metadata": {},
     "output_type": "execute_result"
    }
   ],
   "source": [
    "main_df[\"StreamingMovies\"].unique()"
   ]
  },
  {
   "cell_type": "code",
   "execution_count": 264,
   "id": "6be07fc1",
   "metadata": {},
   "outputs": [],
   "source": [
    "main_df[\"StreamingMovies\"] = main_df[\"StreamingMovies\"].astype(str)"
   ]
  },
  {
   "cell_type": "code",
   "execution_count": 265,
   "id": "aacb5805",
   "metadata": {},
   "outputs": [],
   "source": [
    "#  replacing values\n",
    "\n",
    "main_df[\"StreamingMovies\"] = main_df[\"StreamingMovies\"].apply(lambda x: x.replace(\"False\",\"No\"))\n",
    "#main_df[\"StreamingMovies\"] = main_df[\"StreamingMovies\"].apply(lambda x: x.replace('No internet service',\"No\"))\n",
    "main_df[\"StreamingMovies\"] = main_df[\"StreamingMovies\"].apply(lambda x: x.replace('True',\"Yes\"))\n",
    "main_df[\"StreamingMovies\"] = main_df[\"StreamingMovies\"].apply(lambda x: x.replace(\"nan\",\"No\"))"
   ]
  },
  {
   "cell_type": "markdown",
   "id": "825c2584",
   "metadata": {},
   "source": [
    "## Handling column \"TotalCharges\""
   ]
  },
  {
   "cell_type": "code",
   "execution_count": 266,
   "id": "d2e75461",
   "metadata": {},
   "outputs": [
    {
     "data": {
      "text/plain": [
       "0       False\n",
       "1       False\n",
       "2       False\n",
       "3       False\n",
       "4       False\n",
       "        ...  \n",
       "2038    False\n",
       "2039    False\n",
       "2040    False\n",
       "2041    False\n",
       "2042    False\n",
       "Name: TotalCharges, Length: 5043, dtype: bool"
      ]
     },
     "execution_count": 266,
     "metadata": {},
     "output_type": "execute_result"
    }
   ],
   "source": [
    "main_df[\"TotalCharges\"].isnull() "
   ]
  },
  {
   "cell_type": "code",
   "execution_count": 267,
   "id": "55f60c9b",
   "metadata": {},
   "outputs": [],
   "source": [
    "a = main_df[\"TotalCharges\"].dropna() # dropping null values "
   ]
  },
  {
   "cell_type": "code",
   "execution_count": 268,
   "id": "12df3d19",
   "metadata": {},
   "outputs": [],
   "source": [
    "a = a.astype(str) # changing to string to replace non int values"
   ]
  },
  {
   "cell_type": "code",
   "execution_count": 269,
   "id": "30c01b57",
   "metadata": {},
   "outputs": [],
   "source": [
    "# replacing values\n",
    "\n",
    "a = a.apply(lambda x : x.replace(\"\",\"0\"))\n",
    "a = a.apply(lambda x : x.replace(\"0 0\",\"0\"))"
   ]
  },
  {
   "cell_type": "code",
   "execution_count": 270,
   "id": "0a757d11",
   "metadata": {},
   "outputs": [],
   "source": [
    "a = a.astype(float) # changing to float to calculate mean"
   ]
  },
  {
   "cell_type": "code",
   "execution_count": 271,
   "id": "309b2630",
   "metadata": {},
   "outputs": [],
   "source": [
    "my_mean = a.mean()"
   ]
  },
  {
   "cell_type": "code",
   "execution_count": 272,
   "id": "d43e2665",
   "metadata": {},
   "outputs": [],
   "source": [
    "main_df[\"TotalCharges\"] = main_df[\"TotalCharges\"].fillna(my_mean) # filling null values by mean"
   ]
  },
  {
   "cell_type": "code",
   "execution_count": 273,
   "id": "3ae41617",
   "metadata": {},
   "outputs": [
    {
     "data": {
      "text/plain": [
       "0"
      ]
     },
     "execution_count": 273,
     "metadata": {},
     "output_type": "execute_result"
    }
   ],
   "source": [
    "main_df[\"TotalCharges\"].isnull().sum()"
   ]
  },
  {
   "cell_type": "markdown",
   "id": "39989827",
   "metadata": {},
   "source": [
    "## Handling column \"Churn\""
   ]
  },
  {
   "cell_type": "code",
   "execution_count": 274,
   "id": "f6f7caf3",
   "metadata": {},
   "outputs": [
    {
     "data": {
      "text/plain": [
       "array([False, True, nan, 'No', 'Yes'], dtype=object)"
      ]
     },
     "execution_count": 274,
     "metadata": {},
     "output_type": "execute_result"
    }
   ],
   "source": [
    "main_df[\"Churn\"].unique()"
   ]
  },
  {
   "cell_type": "code",
   "execution_count": 275,
   "id": "df2e9b3a",
   "metadata": {},
   "outputs": [],
   "source": [
    "main_df[\"Churn\"] = main_df[\"Churn\"].astype(str)"
   ]
  },
  {
   "cell_type": "code",
   "execution_count": 276,
   "id": "086ed819",
   "metadata": {},
   "outputs": [],
   "source": [
    "#  replacing values\n",
    "\n",
    "main_df[\"Churn\"] = main_df[\"Churn\"].apply(lambda x: x.replace(\"False\",\"No\"))\n",
    "main_df[\"Churn\"] = main_df[\"Churn\"].apply(lambda x: x.replace('True',\"Yes\"))\n",
    "main_df[\"Churn\"] = main_df[\"Churn\"].apply(lambda x: x.replace(\"nan\",\"No\"))"
   ]
  },
  {
   "cell_type": "code",
   "execution_count": 277,
   "id": "74a9a513",
   "metadata": {},
   "outputs": [
    {
     "data": {
      "text/plain": [
       "customerID          0\n",
       "gender              0\n",
       "SeniorCitizen       0\n",
       "Partner             0\n",
       "Dependents          0\n",
       "tenure              0\n",
       "PhoneService        0\n",
       "MultipleLines       0\n",
       "InternetService     0\n",
       "OnlineSecurity      0\n",
       "OnlineBackup        0\n",
       "DeviceProtection    0\n",
       "TechSupport         0\n",
       "StreamingTV         0\n",
       "StreamingMovies     0\n",
       "Contract            0\n",
       "PaperlessBilling    0\n",
       "PaymentMethod       0\n",
       "MonthlyCharges      0\n",
       "TotalCharges        0\n",
       "Churn               0\n",
       "dtype: int64"
      ]
     },
     "execution_count": 277,
     "metadata": {},
     "output_type": "execute_result"
    }
   ],
   "source": [
    "main_df.isnull().sum()"
   ]
  },
  {
   "cell_type": "markdown",
   "id": "453fbf25",
   "metadata": {},
   "source": [
    "## Handling column \"SeniorCitizen\""
   ]
  },
  {
   "cell_type": "code",
   "execution_count": 278,
   "id": "47a3e4a1",
   "metadata": {},
   "outputs": [
    {
     "data": {
      "text/plain": [
       "0       False\n",
       "1       False\n",
       "2       False\n",
       "3       False\n",
       "4       False\n",
       "        ...  \n",
       "2038        0\n",
       "2039        0\n",
       "2040        0\n",
       "2041        1\n",
       "2042        0\n",
       "Name: SeniorCitizen, Length: 5043, dtype: object"
      ]
     },
     "execution_count": 278,
     "metadata": {},
     "output_type": "execute_result"
    }
   ],
   "source": [
    "main_df[\"SeniorCitizen\"]"
   ]
  },
  {
   "cell_type": "code",
   "execution_count": 279,
   "id": "0934c0c8",
   "metadata": {},
   "outputs": [],
   "source": [
    "main_df[\"SeniorCitizen\"] = main_df[\"SeniorCitizen\"].astype(str)"
   ]
  },
  {
   "cell_type": "code",
   "execution_count": 280,
   "id": "caddef23",
   "metadata": {},
   "outputs": [],
   "source": [
    "main_df[\"SeniorCitizen\"] = main_df[\"SeniorCitizen\"].apply(lambda x : x.replace(\"True\",\"Yes\"))\n",
    "main_df[\"SeniorCitizen\"] = main_df[\"SeniorCitizen\"].apply(lambda x : x.replace(\"False\",\"No\"))"
   ]
  },
  {
   "cell_type": "code",
   "execution_count": 281,
   "id": "6fd44b06",
   "metadata": {},
   "outputs": [
    {
     "data": {
      "text/plain": [
       "array(['No', 'Yes', '0', '1'], dtype=object)"
      ]
     },
     "execution_count": 281,
     "metadata": {},
     "output_type": "execute_result"
    }
   ],
   "source": [
    "main_df[\"SeniorCitizen\"].unique(\n",
    ")"
   ]
  },
  {
   "cell_type": "markdown",
   "id": "d06615c8",
   "metadata": {},
   "source": [
    "## Handling column \"Partner\""
   ]
  },
  {
   "cell_type": "code",
   "execution_count": 282,
   "id": "ebec9713",
   "metadata": {},
   "outputs": [
    {
     "data": {
      "text/plain": [
       "array([True, False, 'No', 'Yes'], dtype=object)"
      ]
     },
     "execution_count": 282,
     "metadata": {},
     "output_type": "execute_result"
    }
   ],
   "source": [
    "main_df[\"Partner\"].unique()"
   ]
  },
  {
   "cell_type": "code",
   "execution_count": 283,
   "id": "255747cf",
   "metadata": {},
   "outputs": [],
   "source": [
    "main_df[\"Partner\"] = main_df[\"Partner\"].astype(str)"
   ]
  },
  {
   "cell_type": "code",
   "execution_count": 284,
   "id": "68be9ed4",
   "metadata": {},
   "outputs": [],
   "source": [
    "main_df[\"Partner\"] = main_df[\"Partner\"].apply(lambda x : x.replace(\"False\",\"No\"))\n",
    "main_df[\"Partner\"] = main_df[\"Partner\"].apply(lambda x : x.replace(\"True\",\"Yes\"))"
   ]
  },
  {
   "cell_type": "markdown",
   "id": "fdacdc85",
   "metadata": {},
   "source": [
    "## Handling column \"Dpendents\""
   ]
  },
  {
   "cell_type": "code",
   "execution_count": 285,
   "id": "9f20a3cd",
   "metadata": {},
   "outputs": [
    {
     "data": {
      "text/plain": [
       "array([False, True, 'No', 'Yes'], dtype=object)"
      ]
     },
     "execution_count": 285,
     "metadata": {},
     "output_type": "execute_result"
    }
   ],
   "source": [
    "main_df[\"Dependents\"].unique()"
   ]
  },
  {
   "cell_type": "code",
   "execution_count": 286,
   "id": "4796aff7",
   "metadata": {},
   "outputs": [],
   "source": [
    "main_df[\"Dependents\"] = main_df[\"Dependents\"].astype(str)"
   ]
  },
  {
   "cell_type": "code",
   "execution_count": 287,
   "id": "f2530d74",
   "metadata": {},
   "outputs": [],
   "source": [
    "main_df[\"Dependents\"] = main_df[\"Dependents\"].apply(lambda x : x.replace(\"False\",\"No\"))\n",
    "main_df[\"Dependents\"] = main_df[\"Dependents\"].apply(lambda x : x.replace(\"True\",\"Yes\"))"
   ]
  },
  {
   "cell_type": "markdown",
   "id": "f766727d",
   "metadata": {},
   "source": [
    "## Handling column \"PhoneService\""
   ]
  },
  {
   "cell_type": "code",
   "execution_count": 288,
   "id": "ef4fe75a",
   "metadata": {},
   "outputs": [
    {
     "data": {
      "text/plain": [
       "array([False, True, 'Yes', 'No'], dtype=object)"
      ]
     },
     "execution_count": 288,
     "metadata": {},
     "output_type": "execute_result"
    }
   ],
   "source": [
    "main_df[\"PhoneService\"].unique()"
   ]
  },
  {
   "cell_type": "code",
   "execution_count": 289,
   "id": "c056b6ec",
   "metadata": {},
   "outputs": [],
   "source": [
    "main_df[\"PhoneService\"] = main_df[\"PhoneService\"].astype(str)"
   ]
  },
  {
   "cell_type": "code",
   "execution_count": 290,
   "id": "f9434e74",
   "metadata": {},
   "outputs": [],
   "source": [
    "main_df[\"PhoneService\"] = main_df[\"PhoneService\"].apply(lambda x : x.replace(\"False\",\"No\"))\n",
    "main_df[\"PhoneService\"] = main_df[\"PhoneService\"].apply(lambda x : x.replace(\"True\",\"Yes\"))"
   ]
  },
  {
   "cell_type": "markdown",
   "id": "3c4b0055",
   "metadata": {},
   "source": [
    "## Handling column \"PaperlessBilling\""
   ]
  },
  {
   "cell_type": "code",
   "execution_count": 291,
   "id": "ce05058c",
   "metadata": {},
   "outputs": [
    {
     "data": {
      "text/plain": [
       "array([True, False, 'Yes', 'No'], dtype=object)"
      ]
     },
     "execution_count": 291,
     "metadata": {},
     "output_type": "execute_result"
    }
   ],
   "source": [
    "main_df[\"PaperlessBilling\"].unique()"
   ]
  },
  {
   "cell_type": "code",
   "execution_count": 292,
   "id": "1725b0a8",
   "metadata": {},
   "outputs": [],
   "source": [
    "main_df[\"PaperlessBilling\"] = main_df[\"PaperlessBilling\"].astype(str)"
   ]
  },
  {
   "cell_type": "code",
   "execution_count": 293,
   "id": "b7d50a2f",
   "metadata": {},
   "outputs": [],
   "source": [
    "main_df[\"PaperlessBilling\"] = main_df[\"PaperlessBilling\"].apply(lambda x : x.replace(\"False\",\"No\"))\n",
    "main_df[\"PaperlessBilling\"] = main_df[\"PaperlessBilling\"].apply(lambda x : x.replace(\"True\",\"Yes\"))"
   ]
  },
  {
   "cell_type": "code",
   "execution_count": null,
   "id": "91a49b06",
   "metadata": {},
   "outputs": [],
   "source": []
  },
  {
   "cell_type": "markdown",
   "id": "ea9811a0",
   "metadata": {},
   "source": [
    "### Now our data is cleaned"
   ]
  },
  {
   "cell_type": "code",
   "execution_count": 294,
   "id": "6cc93835",
   "metadata": {},
   "outputs": [],
   "source": [
    "main_df.to_csv(\"testing2_data.csv\")"
   ]
  },
  {
   "cell_type": "code",
   "execution_count": null,
   "id": "3684e6d1",
   "metadata": {},
   "outputs": [],
   "source": []
  }
 ],
 "metadata": {
  "kernelspec": {
   "display_name": "Python 3 (ipykernel)",
   "language": "python",
   "name": "python3"
  },
  "language_info": {
   "codemirror_mode": {
    "name": "ipython",
    "version": 3
   },
   "file_extension": ".py",
   "mimetype": "text/x-python",
   "name": "python",
   "nbconvert_exporter": "python",
   "pygments_lexer": "ipython3",
   "version": "3.9.13"
  }
 },
 "nbformat": 4,
 "nbformat_minor": 5
}
