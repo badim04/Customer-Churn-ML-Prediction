{
 "cells": [
  {
   "cell_type": "markdown",
   "id": "9ba9948d",
   "metadata": {},
   "source": [
    "#                           Machine Learning Churn prediction Hypothesis and Questions "
   ]
  },
  {
   "cell_type": "code",
   "execution_count": 1,
   "id": "fa1a7d9a",
   "metadata": {},
   "outputs": [],
   "source": [
    "# Importing libraries\n",
    "import pandas as pd\n",
    "import seaborn as sns\n",
    "import matplotlib.pyplot as plt\n",
    "import numpy as np\n",
    "import scipy.stats as stats\n",
    "from scipy.stats import chi2_contingency\n"
   ]
  },
  {
   "cell_type": "code",
   "execution_count": 2,
   "id": "84cfc5f3",
   "metadata": {},
   "outputs": [],
   "source": [
    "# Importing the training data\n",
    "training_data = pd.read_csv(\"C:/Users/hp/Documents/GitHub/Customer-Churn-ML-Prediction/Datasets/training_data.csv\")"
   ]
  },
  {
   "cell_type": "code",
   "execution_count": 3,
   "id": "42333fe6",
   "metadata": {},
   "outputs": [
    {
     "data": {
      "text/html": [
       "<div>\n",
       "<style scoped>\n",
       "    .dataframe tbody tr th:only-of-type {\n",
       "        vertical-align: middle;\n",
       "    }\n",
       "\n",
       "    .dataframe tbody tr th {\n",
       "        vertical-align: top;\n",
       "    }\n",
       "\n",
       "    .dataframe thead th {\n",
       "        text-align: right;\n",
       "    }\n",
       "</style>\n",
       "<table border=\"1\" class=\"dataframe\">\n",
       "  <thead>\n",
       "    <tr style=\"text-align: right;\">\n",
       "      <th></th>\n",
       "      <th>Unnamed: 0</th>\n",
       "      <th>customerID</th>\n",
       "      <th>gender</th>\n",
       "      <th>SeniorCitizen</th>\n",
       "      <th>Partner</th>\n",
       "      <th>Dependents</th>\n",
       "      <th>tenure</th>\n",
       "      <th>PhoneService</th>\n",
       "      <th>MultipleLines</th>\n",
       "      <th>InternetService</th>\n",
       "      <th>...</th>\n",
       "      <th>DeviceProtection</th>\n",
       "      <th>TechSupport</th>\n",
       "      <th>StreamingTV</th>\n",
       "      <th>StreamingMovies</th>\n",
       "      <th>Contract</th>\n",
       "      <th>PaperlessBilling</th>\n",
       "      <th>PaymentMethod</th>\n",
       "      <th>MonthlyCharges</th>\n",
       "      <th>TotalCharges</th>\n",
       "      <th>Churn</th>\n",
       "    </tr>\n",
       "  </thead>\n",
       "  <tbody>\n",
       "    <tr>\n",
       "      <th>0</th>\n",
       "      <td>0</td>\n",
       "      <td>7590-VHVEG</td>\n",
       "      <td>Female</td>\n",
       "      <td>No</td>\n",
       "      <td>Yes</td>\n",
       "      <td>No</td>\n",
       "      <td>1</td>\n",
       "      <td>No</td>\n",
       "      <td>No</td>\n",
       "      <td>DSL</td>\n",
       "      <td>...</td>\n",
       "      <td>No</td>\n",
       "      <td>No</td>\n",
       "      <td>No</td>\n",
       "      <td>No</td>\n",
       "      <td>Month-to-month</td>\n",
       "      <td>Yes</td>\n",
       "      <td>Electronic check</td>\n",
       "      <td>29.850000</td>\n",
       "      <td>29.850000</td>\n",
       "      <td>No</td>\n",
       "    </tr>\n",
       "    <tr>\n",
       "      <th>1</th>\n",
       "      <td>1</td>\n",
       "      <td>5575-GNVDE</td>\n",
       "      <td>Male</td>\n",
       "      <td>No</td>\n",
       "      <td>No</td>\n",
       "      <td>No</td>\n",
       "      <td>34</td>\n",
       "      <td>Yes</td>\n",
       "      <td>No</td>\n",
       "      <td>DSL</td>\n",
       "      <td>...</td>\n",
       "      <td>Yes</td>\n",
       "      <td>No</td>\n",
       "      <td>No</td>\n",
       "      <td>No</td>\n",
       "      <td>One year</td>\n",
       "      <td>No</td>\n",
       "      <td>Mailed check</td>\n",
       "      <td>56.950001</td>\n",
       "      <td>1889.500000</td>\n",
       "      <td>No</td>\n",
       "    </tr>\n",
       "    <tr>\n",
       "      <th>2</th>\n",
       "      <td>2</td>\n",
       "      <td>3668-QPYBK</td>\n",
       "      <td>Male</td>\n",
       "      <td>No</td>\n",
       "      <td>No</td>\n",
       "      <td>No</td>\n",
       "      <td>2</td>\n",
       "      <td>Yes</td>\n",
       "      <td>No</td>\n",
       "      <td>DSL</td>\n",
       "      <td>...</td>\n",
       "      <td>No</td>\n",
       "      <td>No</td>\n",
       "      <td>No</td>\n",
       "      <td>No</td>\n",
       "      <td>Month-to-month</td>\n",
       "      <td>Yes</td>\n",
       "      <td>Mailed check</td>\n",
       "      <td>53.849998</td>\n",
       "      <td>108.150002</td>\n",
       "      <td>Yes</td>\n",
       "    </tr>\n",
       "    <tr>\n",
       "      <th>3</th>\n",
       "      <td>3</td>\n",
       "      <td>7795-CFOCW</td>\n",
       "      <td>Male</td>\n",
       "      <td>No</td>\n",
       "      <td>No</td>\n",
       "      <td>No</td>\n",
       "      <td>45</td>\n",
       "      <td>No</td>\n",
       "      <td>No</td>\n",
       "      <td>DSL</td>\n",
       "      <td>...</td>\n",
       "      <td>Yes</td>\n",
       "      <td>Yes</td>\n",
       "      <td>No</td>\n",
       "      <td>No</td>\n",
       "      <td>One year</td>\n",
       "      <td>No</td>\n",
       "      <td>Bank transfer (automatic)</td>\n",
       "      <td>42.299999</td>\n",
       "      <td>1840.750000</td>\n",
       "      <td>No</td>\n",
       "    </tr>\n",
       "    <tr>\n",
       "      <th>4</th>\n",
       "      <td>4</td>\n",
       "      <td>9237-HQITU</td>\n",
       "      <td>Female</td>\n",
       "      <td>No</td>\n",
       "      <td>No</td>\n",
       "      <td>No</td>\n",
       "      <td>2</td>\n",
       "      <td>Yes</td>\n",
       "      <td>No</td>\n",
       "      <td>Fiber optic</td>\n",
       "      <td>...</td>\n",
       "      <td>No</td>\n",
       "      <td>No</td>\n",
       "      <td>No</td>\n",
       "      <td>No</td>\n",
       "      <td>Month-to-month</td>\n",
       "      <td>Yes</td>\n",
       "      <td>Electronic check</td>\n",
       "      <td>70.699997</td>\n",
       "      <td>151.649994</td>\n",
       "      <td>Yes</td>\n",
       "    </tr>\n",
       "  </tbody>\n",
       "</table>\n",
       "<p>5 rows × 22 columns</p>\n",
       "</div>"
      ],
      "text/plain": [
       "   Unnamed: 0  customerID  gender SeniorCitizen Partner Dependents  tenure  \\\n",
       "0           0  7590-VHVEG  Female            No     Yes         No       1   \n",
       "1           1  5575-GNVDE    Male            No      No         No      34   \n",
       "2           2  3668-QPYBK    Male            No      No         No       2   \n",
       "3           3  7795-CFOCW    Male            No      No         No      45   \n",
       "4           4  9237-HQITU  Female            No      No         No       2   \n",
       "\n",
       "  PhoneService MultipleLines InternetService  ... DeviceProtection  \\\n",
       "0           No            No             DSL  ...               No   \n",
       "1          Yes            No             DSL  ...              Yes   \n",
       "2          Yes            No             DSL  ...               No   \n",
       "3           No            No             DSL  ...              Yes   \n",
       "4          Yes            No     Fiber optic  ...               No   \n",
       "\n",
       "  TechSupport StreamingTV StreamingMovies        Contract PaperlessBilling  \\\n",
       "0          No          No              No  Month-to-month              Yes   \n",
       "1          No          No              No        One year               No   \n",
       "2          No          No              No  Month-to-month              Yes   \n",
       "3         Yes          No              No        One year               No   \n",
       "4          No          No              No  Month-to-month              Yes   \n",
       "\n",
       "               PaymentMethod MonthlyCharges TotalCharges  Churn  \n",
       "0           Electronic check      29.850000    29.850000     No  \n",
       "1               Mailed check      56.950001  1889.500000     No  \n",
       "2               Mailed check      53.849998   108.150002    Yes  \n",
       "3  Bank transfer (automatic)      42.299999  1840.750000     No  \n",
       "4           Electronic check      70.699997   151.649994    Yes  \n",
       "\n",
       "[5 rows x 22 columns]"
      ]
     },
     "execution_count": 3,
     "metadata": {},
     "output_type": "execute_result"
    }
   ],
   "source": [
    "training_data.head()"
   ]
  },
  {
   "cell_type": "markdown",
   "id": "43d52e5d",
   "metadata": {},
   "source": [
    "## 1. Hypothesis"
   ]
  },
  {
   "cell_type": "markdown",
   "id": "b7dbbb96",
   "metadata": {},
   "source": [
    "Null Hypothesis : There is no significant effect of the tenure period of customers and the churn rate of customers\n",
    "    \n",
    "Alternative Hypothesis : There is a significant effect of the tenure period of customers and the churn rate of customers"
   ]
  },
  {
   "cell_type": "code",
   "execution_count": 4,
   "id": "beb0deaf",
   "metadata": {},
   "outputs": [
    {
     "name": "stdout",
     "output_type": "stream",
     "text": [
      "Chi-square statistic: 774.6387018848175\n",
      "P-value: 2.503475573511817e-118\n",
      "Degrees of freedom: 72\n",
      "\n",
      "There is a statistically significant relationship between churn and tenure.\n",
      "We can reject the null hypothesis.\n"
     ]
    }
   ],
   "source": [
    "# Using the 'churn' and 'tenure' columns in our Data\n",
    "df = training_data[['Churn', 'tenure']]\n",
    "\n",
    "# Create a contingency table\n",
    "contingency_table = pd.crosstab(df['Churn'], df['tenure'])\n",
    "\n",
    "# Perform the chi-square test\n",
    "chi2, p_value, dof, expected = chi2_contingency(contingency_table)\n",
    "\n",
    "# Print the results\n",
    "print(\"Chi-square statistic:\", chi2)\n",
    "print(\"P-value:\", p_value)\n",
    "print(\"Degrees of freedom:\", dof)\n",
    "#print(\"Expected frequencies:\\n\", expected)\n",
    "\n",
    "print()\n",
    "\n",
    "# Interpret the results\n",
    "alpha = 0.05  # Significance level\n",
    "if p_value < alpha:\n",
    "    print(\"There is a statistically significant relationship between churn and tenure.\")\n",
    "    print(\"We can reject the null hypothesis.\")\n",
    "else:\n",
    "    print(\"There is no statistically significant relationship between churn and tenure.\")\n",
    "    print(\"We fail to reject the null hypothesis.\")\n"
   ]
  },
  {
   "cell_type": "markdown",
   "id": "9d50ba9a",
   "metadata": {},
   "source": [
    "## 2. Hypothesis"
   ]
  },
  {
   "cell_type": "markdown",
   "id": "c1f547fd",
   "metadata": {},
   "source": [
    "Null Hypothesis : There is no significant effect of the contract type of customers and the churn rate of customers\n",
    "    \n",
    "Alternative Hypothesis : There is a significant effect of the contract type of customers and the churn rate of customers"
   ]
  },
  {
   "cell_type": "code",
   "execution_count": 5,
   "id": "cd86bbfb",
   "metadata": {},
   "outputs": [
    {
     "name": "stdout",
     "output_type": "stream",
     "text": [
      "Chi-square statistic: 882.0901975577578\n",
      "P-value: 2.86119415951209e-192\n",
      "Degrees of freedom: 2\n",
      "\n",
      "There is a statistically significant relationship between churn and Contract.\n",
      "We can reject the null hypothesis.\n"
     ]
    }
   ],
   "source": [
    "df = training_data[['Churn', 'Contract']]\n",
    "\n",
    "# Create a contingency table\n",
    "contingency_table = pd.crosstab(df['Churn'], df['Contract'])\n",
    "\n",
    "# Perform the chi-square test\n",
    "chi2, p_value, dof, expected = chi2_contingency(contingency_table)\n",
    "\n",
    "# Print the results\n",
    "print(\"Chi-square statistic:\", chi2)\n",
    "print(\"P-value:\", p_value)\n",
    "print(\"Degrees of freedom:\", dof)\n",
    "#print(\"Expected frequencies:\\n\", expected)\n",
    "\n",
    "print()\n",
    "\n",
    "# Interpret the results\n",
    "alpha = 0.05  # Significance level\n",
    "if p_value < alpha:\n",
    "    print(\"There is a statistically significant relationship between churn and Contract.\")\n",
    "    print(\"We can reject the null hypothesis.\")\n",
    "else:\n",
    "    print(\"There is no statistically significant relationship between churn and Contract.\")\n",
    "    print(\"We fail to reject the null hypothesis.\")"
   ]
  },
  {
   "cell_type": "markdown",
   "id": "27724283",
   "metadata": {},
   "source": [
    "## 3. Hypothesis"
   ]
  },
  {
   "cell_type": "markdown",
   "id": "fcae6c74",
   "metadata": {},
   "source": [
    "Null Hypothesis : There is no significant effect of the gender of customers and the churn rate of customers\n",
    "    \n",
    "Alternative Hypothesis : There is a significant effect of the gender of customers and the churn rate of customers"
   ]
  },
  {
   "cell_type": "code",
   "execution_count": 6,
   "id": "db673230",
   "metadata": {},
   "outputs": [
    {
     "name": "stdout",
     "output_type": "stream",
     "text": [
      "Chi-square statistic: 0.024146708104267937\n",
      "P-value: 0.8765122032778316\n",
      "Degrees of freedom: 1\n",
      "\n",
      "There is no statistically significant relationship between churn and gender.\n",
      "We fail to reject the null hypothesis.\n"
     ]
    }
   ],
   "source": [
    "# Getting the churn and gender columns\n",
    "df = training_data[['Churn', 'gender']]\n",
    "\n",
    "# Create a contingency table\n",
    "contingency_table = pd.crosstab(df['Churn'], df['gender'])\n",
    "\n",
    "# Perform the chi-square test\n",
    "chi2, p_value, dof, expected = chi2_contingency(contingency_table)\n",
    "\n",
    "# Print the results\n",
    "print(\"Chi-square statistic:\", chi2)\n",
    "print(\"P-value:\", p_value)\n",
    "print(\"Degrees of freedom:\", dof)\n",
    "#print(\"Expected frequencies:\\n\", expected)\n",
    "\n",
    "print()\n",
    "\n",
    "# Interpret the results\n",
    "alpha = 0.05  # Significance level\n",
    "if p_value < alpha:\n",
    "    print(\"There is a statistically significant relationship between churn and gender.\")\n",
    "    print(\"We can reject the null hypothesis.\")\n",
    "else:\n",
    "    print(\"There is no statistically significant relationship between churn and gender.\")\n",
    "    print(\"We fail to reject the null hypothesis.\")"
   ]
  },
  {
   "cell_type": "markdown",
   "id": "0b50c4f9",
   "metadata": {},
   "source": [
    "### According to our result we can conclude that there is statistically significant relationship between churn and tenure then between churn and contract but none between churn and gender"
   ]
  },
  {
   "cell_type": "markdown",
   "id": "a50d396d",
   "metadata": {},
   "source": [
    "## 4. Hypothesis"
   ]
  },
  {
   "cell_type": "markdown",
   "id": "e0a2d73a",
   "metadata": {},
   "source": [
    "Null Hypothesis : There is no significant effect of being senior citizen for a company to have more churn customers\n",
    "\n",
    "Alternative Hypothesis : There is significant effect of being senior citizen for a company to have more churn customers"
   ]
  },
  {
   "cell_type": "code",
   "execution_count": 7,
   "id": "deeffd74",
   "metadata": {},
   "outputs": [
    {
     "name": "stdout",
     "output_type": "stream",
     "text": [
      "ShapiroResult(statistic=0.5507321357727051, pvalue=0.0)\n",
      "LeveneResult(statistic=160.20801906037184, pvalue=1.927831898987456e-36)\n",
      "T_Stat: -12.657330645138881\n",
      "P_Value: 1.927831899002827e-36\n",
      "\n",
      "Reject Null Hypothesis, P_Value is less than 0.05, so there is a significant effect\n"
     ]
    },
    {
     "name": "stderr",
     "output_type": "stream",
     "text": [
      "C:\\Users\\hp\\anaconda3\\lib\\site-packages\\scipy\\stats\\morestats.py:1760: UserWarning: p-value may not be accurate for N > 5000.\n",
      "  warnings.warn(\"p-value may not be accurate for N > 5000.\")\n"
     ]
    }
   ],
   "source": [
    "# Getting the Senior Citizen data \n",
    "citizen = training_data.SeniorCitizen\n",
    "\n",
    "# Replace Values\n",
    "citizen = citizen.apply(lambda x: str(x).replace(\"No\", \"0\"))\n",
    "citizen = citizen.apply(lambda x: str(x).replace(\"Yes\", \"1\"))\n",
    "\n",
    "# Convert to integer\n",
    "citizen = citizen.astype(int)\n",
    "\n",
    "# Getting the Churn data \n",
    "churn = training_data.Churn\n",
    "\n",
    "# Replace Values\n",
    "churn = churn.apply(lambda x: str(x).replace(\"No\", \"0\"))\n",
    "churn = churn.apply(lambda x: str(x).replace(\"Yes\", \"1\"))\n",
    "\n",
    "# Convert to integer\n",
    "churn = churn.astype(int)\n",
    "\n",
    "# Results\n",
    "print(stats.shapiro(churn))\n",
    "print(stats.levene(churn, citizen))\n",
    "\n",
    "# Two sample t-test\n",
    "t_stat, p_value = stats.ttest_ind(citizen, churn)\n",
    "print(\"T_Stat:\", t_stat)\n",
    "print(\"P_Value:\", p_value)\n",
    "\n",
    "print()\n",
    "\n",
    "#Interpret Result\n",
    "alpha = 0.05\n",
    "if p_value < alpha:\n",
    "    print(\"Reject Null Hypothesis, P_Value is less than 0.05, so there is a significant effect\")\n",
    "else:\n",
    "    print(\"Failed to reject Null Hypothesis, P_Value is greater than 0.05, so there is no significant effect\")"
   ]
  },
  {
   "cell_type": "markdown",
   "id": "9e66ebb0",
   "metadata": {},
   "source": [
    "### According to our result we can conclude that there is an effect on being a senior citizen customer or not for the company to lose its users. We recommend the organization to look for senior citiznes to be its users."
   ]
  },
  {
   "cell_type": "code",
   "execution_count": 8,
   "id": "6d00986a",
   "metadata": {},
   "outputs": [
    {
     "data": {
      "image/png": "[encoded data removed]",
      "text/plain": [
       "<Figure size 432x288 with 1 Axes>"
      ]
     },
     "metadata": {
      "needs_background": "light"
     },
     "output_type": "display_data"
    }
   ],
   "source": [
    "seniorcitizen = training_data[training_data.SeniorCitizen == \"Yes\"]\n",
    "leave_senior = seniorcitizen[seniorcitizen.Churn == \"Yes\"][\"Churn\"].count()\n",
    "not_seniorcitizen = training_data[training_data.SeniorCitizen == \"No\"]\n",
    "not_seniorcitizen = not_seniorcitizen[not_seniorcitizen.Churn == \"Yes\"][\"Churn\"].count()\n",
    "list_citizen = [\"SeniorCitizen\", \"Not SeniorCitizen\"]\n",
    "list_num = [leave_senior, not_seniorcitizen]\n",
    "\n",
    "sns.barplot(x = list_num, y= list_citizen )\n",
    "\n",
    "# Show plot\n",
    "\n",
    "plt.title(\"Number of Customers that left the Company\")\n",
    "plt.xlabel(\"Count\")\n",
    "plt.ylabel(\"Citizenship\")\n",
    "plt.show()"
   ]
  },
  {
   "cell_type": "markdown",
   "id": "62f80433",
   "metadata": {},
   "source": [
    "# Questions to be Answered"
   ]
  },
  {
   "cell_type": "markdown",
   "id": "cbbb3d33",
   "metadata": {},
   "source": [
    "1. How is the gender distributed?\n",
    "2. How many customers are senior citizen?\n",
    "3. How many customers are using different types of services from the company?\n",
    "4. How many customers churned from the company?\n",
    "5. What is the Average Monthly charge?\n",
    "6. What is the Average of the total charges the company gained?\n",
    "7. What type of Internet service is used by customers?"
   ]
  },
  {
   "cell_type": "markdown",
   "id": "82e34493",
   "metadata": {},
   "source": [
    "### 1. How is the gender distributed?"
   ]
  },
  {
   "cell_type": "code",
   "execution_count": 9,
   "id": "812bcf68",
   "metadata": {},
   "outputs": [
    {
     "data": {
      "image/png": "[encoded data removed]",
      "text/plain": [
       "<Figure size 432x288 with 1 Axes>"
      ]
     },
     "metadata": {},
     "output_type": "display_data"
    }
   ],
   "source": [
    "male = ( training_data[\"gender\"] == \"Male\" ).sum()\n",
    "female = ( training_data[\"gender\"] == \"Female\" ).sum()\n",
    "\n",
    "data = [male, female]\n",
    "labels = ['Male', \"Female\"]\n",
    "\n",
    "#define Seaborn color palette to use\n",
    "colors = sns.color_palette('pastel')[0:5]\n",
    "\n",
    "\n",
    "#create pie chart\n",
    "plt.pie(data, labels = labels, colors = colors, autopct='%.0f%%')\n",
    "plt.title('Gender Distribution')\n",
    "plt.show()"
   ]
  },
  {
   "cell_type": "markdown",
   "id": "f8456b4f",
   "metadata": {},
   "source": [
    "The gender distribution has no big difference, The data is balanced with gender"
   ]
  },
  {
   "cell_type": "markdown",
   "id": "94510836",
   "metadata": {},
   "source": [
    "## 2. How many customers are senior citizen?"
   ]
  },
  {
   "cell_type": "code",
   "execution_count": 10,
   "id": "d4804ad0",
   "metadata": {},
   "outputs": [
    {
     "data": {
      "text/plain": [
       "array(['No', 'Yes'], dtype=object)"
      ]
     },
     "execution_count": 10,
     "metadata": {},
     "output_type": "execute_result"
    }
   ],
   "source": [
    "training_data.SeniorCitizen.unique()"
   ]
  },
  {
   "cell_type": "code",
   "execution_count": 11,
   "id": "49a104d2",
   "metadata": {},
   "outputs": [
    {
     "data": {
      "text/plain": [
       "5043"
      ]
     },
     "execution_count": 11,
     "metadata": {},
     "output_type": "execute_result"
    }
   ],
   "source": [
    "training_data.SeniorCitizen.count()"
   ]
  },
  {
   "cell_type": "code",
   "execution_count": 12,
   "id": "a8383f82",
   "metadata": {},
   "outputs": [
    {
     "data": {
      "image/png": "[encoded data removed]",
      "text/plain": [
       "<Figure size 720x576 with 1 Axes>"
      ]
     },
     "metadata": {
      "needs_background": "light"
     },
     "output_type": "display_data"
    }
   ],
   "source": [
    "plt.figure(figsize=(10, 8))\n",
    "sns.countplot(x=\"SeniorCitizen\", data=training_data)\n",
    "\n",
    "plt.style.use(\"fivethirtyeight\")\n",
    "plt.title('Senior Citizen Customers')\n",
    "plt.xlabel('SeniorCitizen')\n",
    "plt.ylabel('Count')\n",
    "plt.show()\n"
   ]
  },
  {
   "cell_type": "markdown",
   "id": "391b75fb",
   "metadata": {},
   "source": [
    "More than 4000 customers are not senior Citizens and 800 are seniors. This shows a high variance."
   ]
  },
  {
   "cell_type": "markdown",
   "id": "34e9489c",
   "metadata": {},
   "source": [
    "## 3. How many customers are using different types of services from the company?"
   ]
  },
  {
   "cell_type": "code",
   "execution_count": 13,
   "id": "2d4f553a",
   "metadata": {},
   "outputs": [],
   "source": [
    "MultipleLines = ( training_data[\"MultipleLines\"] == \"Yes\" ).sum()\n",
    "TechSupport = ( training_data[\"TechSupport\"] == \"Yes\" ).sum()\n",
    "OnlineSecurity = ( training_data[\"OnlineSecurity\"] == \"Yes\" ).sum()\n",
    "DeviceProtection = ( training_data[\"DeviceProtection\"] == \"Yes\" ).sum()\n",
    "OnlineBackup = ( training_data[\"OnlineBackup\"] == \"Yes\" ).sum()\n",
    "StreamingTV = ( training_data[\"StreamingTV\"] == \"Yes\" ).sum()\n",
    "Churn = ( training_data[\"Churn\"] == \"Yes\" ).sum()"
   ]
  },
  {
   "cell_type": "code",
   "execution_count": 14,
   "id": "c4700674",
   "metadata": {},
   "outputs": [
    {
     "name": "stdout",
     "output_type": "stream",
     "text": [
      "MultipleLines has 2130 customers\n",
      "TechSupport has 1491 customers\n",
      "OnlineSecurity has 1456 customers\n",
      "DeviceProtection has 1744 customers\n",
      "OnlineBackup has 1732 customers\n",
      "StreamingTV has 1945 customers\n",
      "There are 1336 customers that have left the company\n"
     ]
    }
   ],
   "source": [
    "print(\"MultipleLines has\",MultipleLines, \"customers\")\n",
    "print(\"TechSupport has\",TechSupport, \"customers\")\n",
    "print(\"OnlineSecurity has\",OnlineSecurity, \"customers\")\n",
    "print(\"DeviceProtection has\",DeviceProtection, \"customers\")\n",
    "print(\"OnlineBackup has\",OnlineBackup, \"customers\")\n",
    "print(\"StreamingTV has\",StreamingTV, \"customers\")\n",
    "print(\"There are\",Churn, \"customers that have left the company\")"
   ]
  },
  {
   "cell_type": "code",
   "execution_count": 15,
   "id": "0ee12e2b",
   "metadata": {},
   "outputs": [],
   "source": [
    "list_item = [\"MultipleLines\", \"TechSupport\", \"OnlineSecurity\", \"DeviceProtection\", \"OnlineBackup\", \"StreamingTV\", \"Churn\"]"
   ]
  },
  {
   "cell_type": "code",
   "execution_count": 16,
   "id": "e27b999e",
   "metadata": {},
   "outputs": [],
   "source": [
    "list_num = [MultipleLines, TechSupport, OnlineSecurity, DeviceProtection, OnlineBackup, StreamingTV, Churn]"
   ]
  },
  {
   "cell_type": "code",
   "execution_count": 17,
   "id": "b890eb49",
   "metadata": {},
   "outputs": [
    {
     "data": {
      "text/plain": [
       "['MultipleLines',\n",
       " 'TechSupport',\n",
       " 'OnlineSecurity',\n",
       " 'DeviceProtection',\n",
       " 'OnlineBackup',\n",
       " 'StreamingTV',\n",
       " 'Churn']"
      ]
     },
     "execution_count": 17,
     "metadata": {},
     "output_type": "execute_result"
    }
   ],
   "source": [
    "list_item"
   ]
  },
  {
   "cell_type": "code",
   "execution_count": 18,
   "id": "b85917e4",
   "metadata": {},
   "outputs": [
    {
     "data": {
      "text/plain": [
       "0        No\n",
       "1        No\n",
       "2        No\n",
       "3        No\n",
       "4        No\n",
       "       ... \n",
       "5038    Yes\n",
       "5039    Yes\n",
       "5040     No\n",
       "5041     No\n",
       "5042    Yes\n",
       "Name: StreamingTV, Length: 5043, dtype: object"
      ]
     },
     "execution_count": 18,
     "metadata": {},
     "output_type": "execute_result"
    }
   ],
   "source": [
    "training_data.StreamingTV"
   ]
  },
  {
   "cell_type": "code",
   "execution_count": 19,
   "id": "d4fb3219",
   "metadata": {},
   "outputs": [
    {
     "data": {
      "image/png": "[encoded data removed]",
      "text/plain": [
       "<Figure size 720x432 with 1 Axes>"
      ]
     },
     "metadata": {},
     "output_type": "display_data"
    }
   ],
   "source": [
    "plt.figure(figsize=(10, 6))\n",
    "sns.barplot(x = list_num, y= list_item)\n",
    "plt.title('Customers in Different Service Types')\n",
    "plt.ylabel('Service Types')\n",
    "plt.xlabel('Customers')\n",
    "# Show plot\n",
    "plt.show()\n"
   ]
  },
  {
   "cell_type": "markdown",
   "id": "4f8c1d8c",
   "metadata": {},
   "source": [
    "## 4. How many customers churned from the company?"
   ]
  },
  {
   "cell_type": "code",
   "execution_count": 20,
   "id": "d78ea0b9",
   "metadata": {},
   "outputs": [
    {
     "data": {
      "image/png": "[encoded data removed]",
      "text/plain": [
       "<Figure size 432x288 with 1 Axes>"
      ]
     },
     "metadata": {},
     "output_type": "display_data"
    }
   ],
   "source": [
    "Leave = ( training_data[\"Churn\"] == \"Yes\" ).sum()\n",
    "Stay = ( training_data[\"Churn\"] == \"No\" ).sum()\n",
    "\n",
    "data = [Stay, Leave]\n",
    "labels = ['Stay', \"Leave\"]\n",
    "\n",
    "#define Seaborn color palette to use\n",
    "colors = sns.color_palette('pastel')[0:5]\n",
    "\n",
    "#create pie chart\n",
    "plt.pie(data, labels = labels, colors = colors, autopct='%.0f%%')\n",
    "plt.title(\"Percentage of Customers in company\")\n",
    "plt.show()"
   ]
  },
  {
   "cell_type": "markdown",
   "id": "cb7395a3",
   "metadata": {},
   "source": [
    "The company's data shows that 75% of customers are leaving. More than 50% of them have no internet service, techsupport and other benefits from the organization"
   ]
  },
  {
   "cell_type": "markdown",
   "id": "5917ab90",
   "metadata": {},
   "source": [
    "## 5. What is the Average Monthly charge?"
   ]
  },
  {
   "cell_type": "code",
   "execution_count": 21,
   "id": "b200ce43",
   "metadata": {},
   "outputs": [
    {
     "name": "stdout",
     "output_type": "stream",
     "text": [
      "Averge monthly charge is :  65.09\n"
     ]
    }
   ],
   "source": [
    "mean  = training_data[\"MonthlyCharges\"].mean()\n",
    "print(\"Averge monthly charge is : \", round(mean,2))"
   ]
  },
  {
   "cell_type": "markdown",
   "id": "adc4fab0",
   "metadata": {},
   "source": [
    "## 6. What is the Average of the total charges the company gained?"
   ]
  },
  {
   "cell_type": "code",
   "execution_count": 22,
   "id": "1a1fdd50",
   "metadata": {},
   "outputs": [],
   "source": [
    "training_data.TotalCharges =  training_data.TotalCharges.astype(float)"
   ]
  },
  {
   "cell_type": "code",
   "execution_count": 23,
   "id": "0615fcdb",
   "metadata": {},
   "outputs": [
    {
     "name": "stdout",
     "output_type": "stream",
     "text": [
      "Averge Total charge is :  21254.45\n"
     ]
    }
   ],
   "source": [
    "total  = training_data[\"TotalCharges\"].mean()\n",
    "print(\"Averge Total charge is : \", round(total,2))"
   ]
  },
  {
   "cell_type": "markdown",
   "id": "6c767c85",
   "metadata": {},
   "source": [
    "## 7. What type of Internet service is used by customers?"
   ]
  },
  {
   "cell_type": "code",
   "execution_count": 24,
   "id": "8f3bd8bb",
   "metadata": {},
   "outputs": [
    {
     "data": {
      "text/plain": [
       "0               DSL\n",
       "1               DSL\n",
       "2               DSL\n",
       "3               DSL\n",
       "4       Fiber optic\n",
       "           ...     \n",
       "5038            DSL\n",
       "5039    Fiber optic\n",
       "5040            DSL\n",
       "5041    Fiber optic\n",
       "5042    Fiber optic\n",
       "Name: InternetService, Length: 5043, dtype: object"
      ]
     },
     "execution_count": 24,
     "metadata": {},
     "output_type": "execute_result"
    }
   ],
   "source": [
    "training_data.InternetService"
   ]
  },
  {
   "cell_type": "code",
   "execution_count": 25,
   "id": "364e5f85",
   "metadata": {},
   "outputs": [
    {
     "data": {
      "image/png": "[encoded data removed]",
      "text/plain": [
       "<Figure size 720x432 with 1 Axes>"
      ]
     },
     "metadata": {},
     "output_type": "display_data"
    }
   ],
   "source": [
    "plt.figure(figsize=(10, 6))\n",
    "sns.countplot(x=\"InternetService\", data=training_data)\n",
    "\n",
    "plt.style.use(\"fivethirtyeight\")\n",
    "\n",
    "plt.title(\"Internet Service Type\")\n",
    "plt.xlabel(\"Service type\")\n",
    "plt.ylabel(\"Amount\")\n",
    "plt.show()"
   ]
  },
  {
   "cell_type": "code",
   "execution_count": null,
   "id": "2f45ae68",
   "metadata": {},
   "outputs": [],
   "source": []
  }
 ],
 "metadata": {
  "kernelspec": {
   "display_name": "Python 3 (ipykernel)",
   "language": "python",
   "name": "python3"
  },
  "language_info": {
   "codemirror_mode": {
    "name": "ipython",
    "version": 3
   },
   "file_extension": ".py",
   "mimetype": "text/x-python",
   "name": "python",
   "nbconvert_exporter": "python",
   "pygments_lexer": "ipython3",
   "version": "3.9.7"
  }
 },
 "nbformat": 4,
 "nbformat_minor": 5
}
